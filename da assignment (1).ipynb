{
 "cells": [
  {
   "cell_type": "markdown",
   "id": "fde898e1",
   "metadata": {},
   "source": [
    "# 1 what will be the ouput of the following Python program ?"
   ]
  },
  {
   "cell_type": "code",
   "execution_count": 1,
   "id": "e6384872",
   "metadata": {},
   "outputs": [],
   "source": [
    "def foo(x):\n",
    "    x[0]=['def']       # The function foo(q) modifies q inside the function by changing q[0] to ['def'] and q[1] to ['abc'].\n",
    "    x[1]=['abc']\n",
    "    return id(x)     # q is a list containing two strings, 'abc' and 'def'.\n",
    "q=['abc','def']       # Initially, q is ['abc', 'def'].  "
   ]
  },
  {
   "cell_type": "code",
   "execution_count": 2,
   "id": "d9e6a5ac",
   "metadata": {},
   "outputs": [
    {
     "name": "stdout",
     "output_type": "stream",
     "text": [
      "True\n"
     ]
    }
   ],
   "source": [
    "print(id(q)==foo(q)) # The expression id(q) == foo(q) checks if the memory address of q is equal to the result of foo(q)"
   ]
  },
  {
   "cell_type": "code",
   "execution_count": null,
   "id": "31798915",
   "metadata": {},
   "outputs": [],
   "source": []
  },
  {
   "cell_type": "markdown",
   "id": "c6ede1d5",
   "metadata": {},
   "source": [
    "# 2. What will be the output of the following Python code"
   ]
  },
  {
   "cell_type": "code",
   "execution_count": 4,
   "id": "24a1f939",
   "metadata": {},
   "outputs": [],
   "source": [
    "def fun():\n",
    "    try:\n",
    "        return 1   # try block: The code inside the try block attempts to execute, and it contains the statement return 1\n",
    "    finally:\n",
    "        return 2 # finally block: The finally block always executes, regardless of whether there was an error in the try block or not"
   ]
  },
  {
   "cell_type": "code",
   "execution_count": 5,
   "id": "13631b5d",
   "metadata": {},
   "outputs": [
    {
     "name": "stdout",
     "output_type": "stream",
     "text": [
      "2\n"
     ]
    }
   ],
   "source": [
    "k=fun()\n",
    "print(k)  # This means that, no matter what happens in the try block, the function will always return the value 2"
   ]
  },
  {
   "cell_type": "markdown",
   "id": "ecb39adc",
   "metadata": {},
   "source": [
    "# 3  What will be the output of the following code snippet"
   ]
  },
  {
   "cell_type": "code",
   "execution_count": 8,
   "id": "c63d3447",
   "metadata": {},
   "outputs": [],
   "source": [
    "def func():  # global value: Inside the function, there is a global keyword followed by the variable name value.\n",
    "    global value \n",
    "    value = \"local\""
   ]
  },
  {
   "cell_type": "code",
   "execution_count": 9,
   "id": "d787887f",
   "metadata": {},
   "outputs": [],
   "source": [
    "value = \"global\""
   ]
  },
  {
   "cell_type": "code",
   "execution_count": 10,
   "id": "30f57827",
   "metadata": {},
   "outputs": [
    {
     "name": "stdout",
     "output_type": "stream",
     "text": [
      "local\n"
     ]
    }
   ],
   "source": [
    "func()  # When the function is called, it updates the global variable value to \"local\".\n",
    "print(value) # After the function call, when you print the value of the global variable value, it will be \"local\" because the function modified the global variable."
   ]
  },
  {
   "cell_type": "markdown",
   "id": "a9a31c3e",
   "metadata": {},
   "source": []
  },
  {
   "cell_type": "markdown",
   "id": "0ed0d973",
   "metadata": {},
   "source": [
    "# 4_______ exception are raised as a result of an error in opening a particular file \n",
    "a)value error\n",
    "b)type error\n",
    "c)import errror\n",
    "d)ioerror\n",
    "\n",
    " Answer is ioerror"
   ]
  },
  {
   "cell_type": "markdown",
   "id": "d8b2ce0e",
   "metadata": {},
   "source": [
    "### In Python, IOError is raised when an error occurs while performing input/output operations, such as when there's an issue opening or accessing a file. So, if there is an error in opening a particular file, Python will raise an IOError exception."
   ]
  },
  {
   "cell_type": "markdown",
   "id": "2e3ebccf",
   "metadata": {},
   "source": [
    "# 5 In python we do not specify types, it is directly interpreted by the compiler, so consider the following operation to be performed"
   ]
  },
  {
   "cell_type": "markdown",
   "id": "c3ef40a9",
   "metadata": {},
   "source": [
    "### a) x = 13 // 2\n",
    "### b) x = int(13/2)\n",
    "### c) x = 13 % 2\n",
    "### d) all of the mentioned"
   ]
  },
  {
   "cell_type": "code",
   "execution_count": null,
   "id": "98de5da5",
   "metadata": {},
   "outputs": [],
   "source": [
    "Answer = d) All of the mentioned"
   ]
  },
  {
   "cell_type": "markdown",
   "id": "2772e414",
   "metadata": {},
   "source": [
    "### In Python, the type of a variable is dynamically determined at runtime, and you don't need to explicitly specify types in most cases\n",
    "\n",
    "\n",
    "### a) x = 13 // 2: This performs integer division, and the result is 6 (the floor division of 13 by 2). The type of x will be an integer.\n",
    "\n",
    "### b) x = int(13 / 2): Here, you're explicitly converting the result of the division to an integer using the int() function. The result is 6, and the type of x will be an integer.\n",
    "\n",
    "### c) x = 13 % 2: This performs the modulus operation, and the result is 1. The type of x will be an integer."
   ]
  },
  {
   "cell_type": "code",
   "execution_count": null,
   "id": "d3241ce0",
   "metadata": {},
   "outputs": [],
   "source": []
  },
  {
   "cell_type": "markdown",
   "id": "6a262e2a",
   "metadata": {},
   "source": [
    "# 6  What will be the output of the following pthon code"
   ]
  },
  {
   "cell_type": "code",
   "execution_count": 1,
   "id": "24c3e94e",
   "metadata": {},
   "outputs": [
    {
     "ename": "NameError",
     "evalue": "name 't' is not defined",
     "output_type": "error",
     "traceback": [
      "\u001b[1;31m---------------------------------------------------------------------------\u001b[0m",
      "\u001b[1;31mNameError\u001b[0m                                 Traceback (most recent call last)",
      "Cell \u001b[1;32mIn[1], line 1\u001b[0m\n\u001b[1;32m----> 1\u001b[0m t[\u001b[38;5;241m5\u001b[39m]\n",
      "\u001b[1;31mNameError\u001b[0m: name 't' is not defined"
     ]
    }
   ],
   "source": [
    "t[5] # NameError: name 't' is not defined\n",
    "# This will raise a NameError if 't' is not defined or assigned a value"
   ]
  },
  {
   "cell_type": "markdown",
   "id": "94255469",
   "metadata": {},
   "source": [
    "### In Python, when you try to access an element of a variable that hasn't been defined or assigned a value, you will get a NameError because the interpreter doesn't know what t refers to."
   ]
  },
  {
   "cell_type": "markdown",
   "id": "04286dfb",
   "metadata": {},
   "source": [
    "# 7 A while loop is used for indefinite iteration."
   ]
  },
  {
   "cell_type": "code",
   "execution_count": 2,
   "id": "4c47f73e",
   "metadata": {},
   "outputs": [
    {
     "name": "stdout",
     "output_type": "stream",
     "text": [
      "Count is: 0\n",
      "Count is: 1\n",
      "Count is: 2\n",
      "Count is: 3\n",
      "Count is: 4\n"
     ]
    }
   ],
   "source": [
    "count = 0        # A while loop in Python is used for indefinite iteration\n",
    "\n",
    "while count < 5:   # it continues to execute as long as a specified condition is true\n",
    "    print(\"Count is:\", count)\n",
    "    count += 1\n"
   ]
  },
  {
   "cell_type": "markdown",
   "id": "777debfa",
   "metadata": {},
   "source": [
    "# 8 What will be the output of the following Python code"
   ]
  },
  {
   "cell_type": "code",
   "execution_count": 12,
   "id": "b8d16bcf",
   "metadata": {},
   "outputs": [],
   "source": [
    "x=\"abcdef\""
   ]
  },
  {
   "cell_type": "code",
   "execution_count": 14,
   "id": "8adb42cd",
   "metadata": {},
   "outputs": [
    {
     "ename": "TypeError",
     "evalue": "'in <string>' requires string as left operand, not int",
     "output_type": "error",
     "traceback": [
      "\u001b[1;31m---------------------------------------------------------------------------\u001b[0m",
      "\u001b[1;31mTypeError\u001b[0m                                 Traceback (most recent call last)",
      "Cell \u001b[1;32mIn[14], line 1\u001b[0m\n\u001b[1;32m----> 1\u001b[0m \u001b[38;5;28;01mwhile\u001b[39;00m i \u001b[38;5;129;01min\u001b[39;00m x:\n\u001b[0;32m      2\u001b[0m     \u001b[38;5;28mprint\u001b[39m(i,end\u001b[38;5;241m=\u001b[39m\u001b[38;5;124m\"\u001b[39m\u001b[38;5;124m\"\u001b[39m)\n",
      "\u001b[1;31mTypeError\u001b[0m: 'in <string>' requires string as left operand, not int"
     ]
    }
   ],
   "source": [
    "while i in x:\n",
    "    print(i,end=\"\")"
   ]
  },
  {
   "cell_type": "markdown",
   "id": "68f390b3",
   "metadata": {},
   "source": [
    "### > while i in x:: This line starts a while loop with the condition i in x. The intention seems to be iterating through the characters of the string x until i is not in x\n",
    "\n",
    "### > print(i, end=\"\"): This line prints the value of i without a newline."
   ]
  },
  {
   "cell_type": "markdown",
   "id": "4d90fa2f",
   "metadata": {},
   "source": [
    "### The variable i is not defined before the while loop. It seems like you are trying to iterate through the characters of the string x, but the loop condition is currently looking for the existence of i in the string, which is not defined\n",
    "\n",
    "### The error TypeError: 'in string requires string as left operand, not int occurs because i is not defined, and \n",
    "### is interpreting it as an integer (which it isn't). The in operator expects both operands to be of the same type (either both strings or both integers)."
   ]
  },
  {
   "cell_type": "markdown",
   "id": "92ed5bfc",
   "metadata": {},
   "source": [
    "# 9 What is main advantage of using decorators in Python"
   ]
  },
  {
   "cell_type": "code",
   "execution_count": null,
   "id": "bbea1d33",
   "metadata": {},
   "outputs": [],
   "source": [
    "a)they make code more code more complex\n",
    "b)they simplify the syntax of decorated function\n",
    "c)they reduse performance of code\n",
    "d)they provide additional security featyures\n"
   ]
  },
  {
   "cell_type": "markdown",
   "id": "8cdefa11",
   "metadata": {},
   "source": [
    "### Answer= \n",
    "### b) They simplify the syntax of decorated functions\n",
    "\n",
    "\n",
    "### Decorators in Python offer a concise and readable way to modify or extend the behavior of functions or methods. They provide a clean and reusable way to wrap or enhance the functionality of functions"
   ]
  },
  {
   "cell_type": "markdown",
   "id": "d4c51a37",
   "metadata": {},
   "source": [
    "# 10 If return statement is not used inside the function, the funtion will return"
   ]
  },
  {
   "cell_type": "code",
   "execution_count": null,
   "id": "fe58dbc0",
   "metadata": {},
   "outputs": [],
   "source": [
    "a)none\n",
    "b)0\n",
    "c)null\n",
    "d)arbitary value\n",
    "\n"
   ]
  },
  {
   "cell_type": "markdown",
   "id": "f92bf3ed",
   "metadata": {},
   "source": [
    "### Answer=a) None\n",
    "\n",
    "### If a return statement is not used in a function, Python implicitly returns None by default. So, if the function completes its execution without encountering a return statement, it effectively returns None."
   ]
  },
  {
   "cell_type": "markdown",
   "id": "da0bedc3",
   "metadata": {},
   "source": [
    "# 11 When a function is defined inside a class it is called as __________"
   ]
  },
  {
   "cell_type": "code",
   "execution_count": null,
   "id": "835ae324",
   "metadata": {},
   "outputs": [],
   "source": [
    "a)class\n",
    "b)function\n",
    "c)method\n",
    "d)module"
   ]
  },
  {
   "cell_type": "markdown",
   "id": "bf25487b",
   "metadata": {},
   "source": [
    "### Answer=c) method\n",
    "\n",
    "#### When a function is defined inside a class in Python, it is referred to as a method"
   ]
  },
  {
   "cell_type": "markdown",
   "id": "551a88a9",
   "metadata": {},
   "source": [
    "# 12 Which operator is used in python to import modules from packages"
   ]
  },
  {
   "cell_type": "code",
   "execution_count": null,
   "id": "50da5a7d",
   "metadata": {},
   "outputs": [],
   "source": [
    "which oprator is used in python to import modules from packages\n",
    "a).\n",
    "b)*\n",
    "c)->\n",
    "d)&\n"
   ]
  },
  {
   "cell_type": "markdown",
   "id": "d1694d68",
   "metadata": {},
   "source": [
    "### Answers= a)\n",
    "\n",
    "### the dot (.) operator is used to import modules from packages. The dot operator is used to navigate the hierarchy of packages and access the modules contained within them."
   ]
  },
  {
   "cell_type": "markdown",
   "id": "cea1a5ff",
   "metadata": {},
   "source": [
    "# 13"
   ]
  },
  {
   "cell_type": "code",
   "execution_count": 18,
   "id": "100f57ef",
   "metadata": {},
   "outputs": [],
   "source": [
    "def getMonth(m):\n",
    "    if m<1 or m>12:  # If the provided month value is not in the valid range (1 to 12),\n",
    "         raise ValueError(\"Invalid\")\n",
    "    print(m)"
   ]
  },
  {
   "cell_type": "code",
   "execution_count": 19,
   "id": "73035446",
   "metadata": {},
   "outputs": [
    {
     "name": "stdout",
     "output_type": "stream",
     "text": [
      "6\n"
     ]
    }
   ],
   "source": [
    "getMonth(6)"
   ]
  },
  {
   "cell_type": "code",
   "execution_count": null,
   "id": "0947cc8b",
   "metadata": {},
   "outputs": [],
   "source": [
    "#Function to print the month if it is valid, otherwise raises a ValueError.\n",
    "\n",
    "    #Parameters:\n",
    "    - m (int): Month value to be checked.\n",
    "\n",
    "   # Raises:\n",
    "    - ValueError: If the provided month value is less than 1 or greater than 12.\n",
    "\n",
    "    #Returns:\n",
    "    - None: If the month is valid, it prints the month value; otherwise, it raises an exception."
   ]
  },
  {
   "cell_type": "markdown",
   "id": "e9a0f182",
   "metadata": {},
   "source": [
    "### This function is a simple example of input validation, ensuring that the provided month value is within a valid range. The use of a ValueError makes it clear that an exceptional condition has occurred."
   ]
  },
  {
   "cell_type": "code",
   "execution_count": null,
   "id": "0f0942d8",
   "metadata": {},
   "outputs": [],
   "source": []
  },
  {
   "cell_type": "markdown",
   "id": "993795cb",
   "metadata": {},
   "source": [
    "# 14 In python programming Language syntax error is detected by _____ at ____"
   ]
  },
  {
   "cell_type": "code",
   "execution_count": null,
   "id": "52f5293e",
   "metadata": {},
   "outputs": [],
   "source": [
    "a)interpreter/compile time\n",
    "b)run time/interpreter \n",
    "c)interpreter/ run time\n",
    "d)compile time/ run time "
   ]
  },
  {
   "cell_type": "markdown",
   "id": "c9615ce6",
   "metadata": {},
   "source": [
    "### Answer=d) compile time/ run time\n",
    "\n",
    "### Syntax errors in Python are detected by the interpreter during the compilation phase, which occurs before the code is run.\n",
    "\n"
   ]
  },
  {
   "cell_type": "markdown",
   "id": "bfce08d4",
   "metadata": {},
   "source": [
    "# 15 "
   ]
  },
  {
   "cell_type": "code",
   "execution_count": 2,
   "id": "313afd74",
   "metadata": {},
   "outputs": [],
   "source": [
    "class  Book:\n",
    "    def __init__(self,author):\n",
    "        self.author=author"
   ]
  },
  {
   "cell_type": "code",
   "execution_count": 3,
   "id": "e722a4ce",
   "metadata": {},
   "outputs": [],
   "source": [
    "book1=Book(\"V.M.shah\")"
   ]
  },
  {
   "cell_type": "code",
   "execution_count": 4,
   "id": "26dc7834",
   "metadata": {},
   "outputs": [],
   "source": [
    "book2=book1"
   ]
  },
  {
   "cell_type": "code",
   "execution_count": 5,
   "id": "695177b9",
   "metadata": {},
   "outputs": [
    {
     "data": {
      "text/plain": [
       "<__main__.Book at 0x18e3def4410>"
      ]
     },
     "execution_count": 5,
     "metadata": {},
     "output_type": "execute_result"
    }
   ],
   "source": [
    "book1"
   ]
  },
  {
   "cell_type": "code",
   "execution_count": 7,
   "id": "9d7f733c",
   "metadata": {},
   "outputs": [
    {
     "data": {
      "text/plain": [
       "1710436074512"
      ]
     },
     "execution_count": 7,
     "metadata": {},
     "output_type": "execute_result"
    }
   ],
   "source": [
    "id(book1)"
   ]
  },
  {
   "cell_type": "code",
   "execution_count": 8,
   "id": "5955eab7",
   "metadata": {},
   "outputs": [
    {
     "data": {
      "text/plain": [
       "1710436074512"
      ]
     },
     "execution_count": 8,
     "metadata": {},
     "output_type": "execute_result"
    }
   ],
   "source": [
    "id(book2)"
   ]
  },
  {
   "cell_type": "markdown",
   "id": "61ac7a29",
   "metadata": {},
   "source": [
    "### Answers= b) id(book1) and id(book2) will have the same value\n",
    "\n",
    "### When you assign book1 to book2, both variables refer to the same object, and therefore, the id() values for book1 and book2 will be the same.\n",
    "\n"
   ]
  },
  {
   "cell_type": "code",
   "execution_count": 2,
   "id": "9005978a",
   "metadata": {},
   "outputs": [
    {
     "name": "stdout",
     "output_type": "stream",
     "text": [
      "        Date  Category     Product CustomerID  Quantity  UnitPrice\n",
      "0 2024-01-01  Beverage  Cappuccino       C004         1        3.0\n",
      "1 2024-01-02      Food   Croissant       C002         2        2.0\n",
      "2 2024-01-03  Beverage    Espresso       C001         2        2.0\n",
      "3 2024-01-10  Beverage       Latte       C001         3        3.5\n",
      "4 2024-01-09  Beverage       Latte       C003         1        3.5\n",
      "5 2024-01-08      Food      Muffin       C002         1        2.5\n"
     ]
    }
   ],
   "source": [
    "import pandas as pd\n",
    "\n",
    "data = {\n",
    "    'Date': pd.to_datetime(['2024-01-01', '2024-01-02', '2024-01-03', '2024-01-10', '2024-01-09', '2024-01-08']),\n",
    "    'Category': ['Beverage', 'Food', 'Beverage', 'Beverage', 'Beverage', 'Food'],\n",
    "    'Product': ['Cappuccino', 'Croissant', 'Espresso', 'Latte', 'Latte', 'Muffin'],\n",
    "    'CustomerID': ['C004', 'C002', 'C001', 'C001', 'C003', 'C002'],\n",
    "    'Quantity': [1, 2, 2, 3, 1, 1],\n",
    "    'UnitPrice': [3, 2, 2, 3.5, 3.5, 2.5]\n",
    "}\n",
    "\n",
    "df = pd.DataFrame(data)\n",
    "\n",
    "print(df)"
   ]
  },
  {
   "cell_type": "markdown",
   "id": "fb81e080",
   "metadata": {},
   "source": [
    "# 16 How to Create a new column Revenue which has value equals to the Quantity * UnitPrice of the current row"
   ]
  },
  {
   "cell_type": "code",
   "execution_count": 3,
   "id": "5176efba",
   "metadata": {},
   "outputs": [
    {
     "data": {
      "text/plain": [
       "0     3.0\n",
       "1     4.0\n",
       "2     4.0\n",
       "3    10.5\n",
       "4     3.5\n",
       "5     2.5\n",
       "Name: Revenue, dtype: float64"
      ]
     },
     "execution_count": 3,
     "metadata": {},
     "output_type": "execute_result"
    }
   ],
   "source": [
    "df['Revenue'] = df['Quantity'] * df['UnitPrice']\n",
    "df['Revenue']"
   ]
  },
  {
   "cell_type": "code",
   "execution_count": 4,
   "id": "3dc04d61",
   "metadata": {},
   "outputs": [
    {
     "data": {
      "text/plain": [
       "0     3.0\n",
       "1     4.0\n",
       "2     4.0\n",
       "3    10.5\n",
       "4     3.5\n",
       "5     2.5\n",
       "Name: Revenue, dtype: float64"
      ]
     },
     "execution_count": 4,
     "metadata": {},
     "output_type": "execute_result"
    }
   ],
   "source": [
    "df['Revenue']"
   ]
  },
  {
   "cell_type": "markdown",
   "id": "2e7c8758",
   "metadata": {},
   "source": [
    "### Answer= a) df['Revenue'] = df['Quantity'] * df['UnitPrice']\n",
    "\n",
    "\n",
    "\n",
    "### df['Quantity']: This retrieves the values from the 'Quantity' column of the DataFrame df\n",
    "### df['UnitPrice']: This retrieves the values from the 'UnitPrice' column of the DataFrame df\n",
    "### df['Quantity'] * df['UnitPrice']: This performs element-wise multiplication \n",
    "\n",
    "\n",
    "### df['Revenue'] = df['Quantity'] * df['UnitPrice']: This creates a new column named 'Revenue' in the DataFrame df and assigns it the values obtained from the multiplication operation."
   ]
  },
  {
   "cell_type": "markdown",
   "id": "5687a902",
   "metadata": {},
   "source": [
    "# 17 What is the syntax to find Categorical wise revenue"
   ]
  },
  {
   "cell_type": "code",
   "execution_count": null,
   "id": "c8b98978",
   "metadata": {},
   "outputs": [],
   "source": [
    "a) df.groupby('Category')['Revenue'].mean()\n",
    "b) df.groupby('Category')['Revenue'].sum()\n",
    "c) df.groupby('Category')['Revenue'].agg(np.sum)\n",
    "d) df.groupby('Category')['Revenue'].agg('sum')"
   ]
  },
  {
   "cell_type": "markdown",
   "id": "62100b7b",
   "metadata": {},
   "source": [
    "### Answer= d)\n",
    "\n",
    "#### df.groupby('Category')['Revenue'].agg('sum')"
   ]
  },
  {
   "cell_type": "code",
   "execution_count": 9,
   "id": "d9f8c3f1",
   "metadata": {},
   "outputs": [
    {
     "name": "stdout",
     "output_type": "stream",
     "text": [
      "Category\n",
      "Beverage    21.0\n",
      "Food         6.5\n",
      "Name: Revenue, dtype: float64\n"
     ]
    }
   ],
   "source": [
    "df['Revenue'] = df['Quantity'] * df['UnitPrice']\n",
    "categorical_wise_revenue = df.groupby('Category')['Revenue'].agg('sum')\n",
    "print(categorical_wise_revenue)\n"
   ]
  },
  {
   "cell_type": "markdown",
   "id": "e64d9de3",
   "metadata": {},
   "source": [
    "### The line df['Revenue'] = df['Quantity'] * df['UnitPrice'] creates a new 'Revenue' column in the DataFrame by multiplying the 'Quantity' and 'UnitPrice' columns\n",
    "\n",
    "### The line categorical_wise_revenue = df.groupby('Category')['Revenue'].agg('sum') groups the DataFrame by 'Category' and calculates the sum of the 'Revenue' values within each group\n",
    "\n",
    "### The result, categorical_wise_revenue, is a Series where the index represents unique categories, and the values represent the total revenue for each category"
   ]
  },
  {
   "cell_type": "markdown",
   "id": "8969a2d4",
   "metadata": {},
   "source": [
    "# 18 To find the average quantity wrt t date and product what is the correct syntax?"
   ]
  },
  {
   "cell_type": "code",
   "execution_count": null,
   "id": "3cf08469",
   "metadata": {},
   "outputs": [],
   "source": [
    "Answers= b)\n",
    "\n",
    "df.groupby(['Date', 'Product'])['Quantity'].mean()"
   ]
  },
  {
   "cell_type": "code",
   "execution_count": 9,
   "id": "1e99e658",
   "metadata": {},
   "outputs": [
    {
     "data": {
      "text/plain": [
       "Date        Product   \n",
       "2024-01-01  Cappuccino    1.0\n",
       "2024-01-02  Croissant     2.0\n",
       "2024-01-03  Espresso      2.0\n",
       "2024-01-08  Muffin        1.0\n",
       "2024-01-09  Latte         1.0\n",
       "2024-01-10  Latte         3.0\n",
       "Name: Quantity, dtype: float64"
      ]
     },
     "execution_count": 9,
     "metadata": {},
     "output_type": "execute_result"
    }
   ],
   "source": [
    "df.groupby(['Date', 'Product'])['Quantity'].mean() # groupby method along with the mean function."
   ]
  },
  {
   "cell_type": "markdown",
   "id": "834b56f4",
   "metadata": {},
   "source": [
    "### pandas Series where the index consists of unique combinations of 'Date' and 'Product', and the values are the average quantities for each combination."
   ]
  },
  {
   "cell_type": "markdown",
   "id": "2cd54051",
   "metadata": {},
   "source": [
    "# 19 Categorical wise revenue for Bevarage and Food respectively are"
   ]
  },
  {
   "cell_type": "raw",
   "id": "b1df783c",
   "metadata": {},
   "source": [
    "a) 28.5 , 6.0\n",
    "b) 6.0 , 27.5\n",
    "c) 28.5 ,7.0\n",
    "d) 7.0 , 28.5"
   ]
  },
  {
   "cell_type": "markdown",
   "id": "21035f53",
   "metadata": {},
   "source": [
    "### Answer= a)"
   ]
  },
  {
   "cell_type": "code",
   "execution_count": 4,
   "id": "bcbcba58",
   "metadata": {},
   "outputs": [
    {
     "name": "stdout",
     "output_type": "stream",
     "text": [
      "Categorical-wise Revenue for 'Beverage' and 'Food' respectively are:\n",
      "21.0 , 6.5\n"
     ]
    }
   ],
   "source": [
    "# Calculate the revenue for each category (Quantity * UnitPrice), then sum the results for each category\n",
    "revenue_by_category = df.groupby('Category').apply(lambda x: (x['Quantity'] * x['UnitPrice']).sum())\n",
    "\n",
    "# Extract the revenue values for 'Beverage' and 'Food'\n",
    "revenue_beverage = revenue_by_category.loc['Beverage']\n",
    "revenue_food = revenue_by_category.loc['Food']\n",
    "\n",
    "# Print the results\n",
    "print(\"Categorical-wise Revenue for 'Beverage' and 'Food' respectively are:\")\n",
    "print(revenue_beverage, \",\", revenue_food)\n"
   ]
  },
  {
   "cell_type": "markdown",
   "id": "684d5448",
   "metadata": {},
   "source": [
    "### > Grouping by 'Category':\n",
    "### The groupby method is used to group the DataFrame 'df' by the 'Category' column.\n",
    "\n",
    "### >Applying a Lambda Function:\n",
    "### The apply method is used to apply a lambda function to each group. The lambda function calculates the revenue for each row in the group using the formula (x['Quantity'] * x['UnitPrice']). This results in a Series of revenue values for each group.\n",
    "\n",
    "### >Summing the Results:\n",
    "### The sum method is applied to the result of the lambda function to get the total revenue for each group.\n",
    "\n",
    "### The result, revenue_by_category, is a Series where the index is the unique values in the 'Category' column, and the values are the total revenue for each category\n"
   ]
  },
  {
   "cell_type": "markdown",
   "id": "a4923368",
   "metadata": {},
   "source": [
    "# 20 Using transform, What is the syntax to create a column which has a unitprice difference wrt its category mean"
   ]
  },
  {
   "cell_type": "code",
   "execution_count": null,
   "id": "f78e6197",
   "metadata": {},
   "outputs": [],
   "source": [
    "a) df.groupby('Category')['UnitPrice'].transform(lambda x: x - x.mean())\n",
    "b) df.groupby('Category')('UnitPrice').transform(lambda x: x - x.mean())\n",
    "c) df.groupby['Category']['UnitPrice'].transform(lambda x: x - x.mean())\n",
    "d) df.groupby(['Category','UnitPrice']).transform(lambda x: x - x.mean())"
   ]
  },
  {
   "cell_type": "markdown",
   "id": "6a4e332d",
   "metadata": {},
   "source": [
    "### Answer=a)\n",
    "\n",
    "### df.groupby('Category')['UnitPrice'].transform(lambda x: x - x.mean())\n"
   ]
  },
  {
   "cell_type": "code",
   "execution_count": 12,
   "id": "bc00ae10",
   "metadata": {},
   "outputs": [
    {
     "data": {
      "text/plain": [
       "0    0.00\n",
       "1   -0.25\n",
       "2   -1.00\n",
       "3    0.50\n",
       "4    0.50\n",
       "5    0.25\n",
       "Name: UnitPrice, dtype: float64"
      ]
     },
     "execution_count": 12,
     "metadata": {},
     "output_type": "execute_result"
    }
   ],
   "source": [
    "df.groupby('Category')['UnitPrice'].transform(lambda x: x - x.mean()) \n",
    "\n",
    "# use transform to broadcast the calculated differences back to the original DataFrame\n",
    "# The lambda function inside transform calculates the difference between each 'UnitPrice' and its group mean"
   ]
  },
  {
   "cell_type": "markdown",
   "id": "5d84ea2d",
   "metadata": {},
   "source": [
    "### df.groupby(\"category\"): Groups the DataFrame by the 'category' column\n",
    "### [\"unitprice\"]: Selects the 'unitprice' column from the grouped data\n",
    "### .transform(lambda x: x - x.mean()): Applies a lambda function to calculate the difference between each unit price (x) and the mean unit price of its category."
   ]
  },
  {
   "cell_type": "code",
   "execution_count": null,
   "id": "f79a8b91",
   "metadata": {},
   "outputs": [],
   "source": []
  },
  {
   "cell_type": "markdown",
   "id": "2316a0d8",
   "metadata": {},
   "source": [
    "# 21 what is correct syntax to get data wrt \"monday\""
   ]
  },
  {
   "cell_type": "markdown",
   "id": "788251d4",
   "metadata": {},
   "source": [
    "a) df.groupby(df.Date.dt.day_name()).get_group('Monday')\n",
    "b) df.groupby(df.Date.dt.dayname()).get_group('Monday')\n",
    "c) df.groupby(df.Date.dt.dayofweekname()).get_group('Monday')\n",
    "d) df.groupby(df.Date.dt.day_of_weekname()).get_group('Monday')"
   ]
  },
  {
   "cell_type": "markdown",
   "id": "aea3cfde",
   "metadata": {},
   "source": [
    "### Answer= a) \n",
    "\n",
    "### a) df.groupby(df.Date.dt.day_name()).get_group(\"Monday\")\n",
    "\n",
    "\n",
    "### This syntax correctly uses the groupby method with the get_group method to filter the DataFrame for data corresponding to Mondays based on the day name.\n",
    "\n"
   ]
  },
  {
   "cell_type": "markdown",
   "id": "ec0b153e",
   "metadata": {},
   "source": [
    "# 22 Which of the following statements is / are true"
   ]
  },
  {
   "cell_type": "markdown",
   "id": "32b0894a",
   "metadata": {},
   "source": [
    "### Answer= d)\n",
    "\n",
    " d) apply applies the function one cell at a time"
   ]
  },
  {
   "cell_type": "markdown",
   "id": "b37c2c63",
   "metadata": {},
   "source": [
    "### The apply function in pandas can be applied to a Series or DataFrame. When applied to a Series, it operates on each element of the Series. When applied to a DataFrame, it can operate on either rows or columns, depending on the specified axis."
   ]
  },
  {
   "cell_type": "markdown",
   "id": "92dcf6d5",
   "metadata": {},
   "source": [
    "# 23 Which of the following statements is / are true"
   ]
  },
  {
   "cell_type": "code",
   "execution_count": null,
   "id": "5893cd13",
   "metadata": {},
   "outputs": [],
   "source": [
    "a) Map applies the functionality on entire DataFrame\n",
    "b) Applymap applies the functionality on series be it ro or a column\n",
    "c) Apply and Map are vectorized applications\n",
    "d) None of the above"
   ]
  },
  {
   "cell_type": "markdown",
   "id": "76955df1",
   "metadata": {},
   "source": [
    "### Answer = b)\n",
    "\n",
    "### b) applymap applies the functionality on each element of the DataFrame, whether it's a row or a column."
   ]
  },
  {
   "cell_type": "markdown",
   "id": "9ddb3858",
   "metadata": {},
   "source": [
    "### >map is used for element-wise transformations on a Series.\n",
    "### >apply can be used to apply a function along the axis of a DataFrame, either on rows or columns, based on the specified axis parameter.\n",
    "### >applymap is specifically designed for element-wise operations on DataFrames."
   ]
  },
  {
   "cell_type": "code",
   "execution_count": null,
   "id": "41202cac",
   "metadata": {},
   "outputs": [],
   "source": []
  },
  {
   "cell_type": "code",
   "execution_count": 3,
   "id": "e623de49",
   "metadata": {},
   "outputs": [
    {
     "data": {
      "text/html": [
       "<div>\n",
       "<style scoped>\n",
       "    .dataframe tbody tr th:only-of-type {\n",
       "        vertical-align: middle;\n",
       "    }\n",
       "\n",
       "    .dataframe tbody tr th {\n",
       "        vertical-align: top;\n",
       "    }\n",
       "\n",
       "    .dataframe thead th {\n",
       "        text-align: right;\n",
       "    }\n",
       "</style>\n",
       "<table border=\"1\" class=\"dataframe\">\n",
       "  <thead>\n",
       "    <tr style=\"text-align: right;\">\n",
       "      <th></th>\n",
       "      <th>Date</th>\n",
       "      <th>Region</th>\n",
       "      <th>Salesperson</th>\n",
       "      <th>Product</th>\n",
       "      <th>Quantity</th>\n",
       "      <th>UnitPrice</th>\n",
       "    </tr>\n",
       "  </thead>\n",
       "  <tbody>\n",
       "    <tr>\n",
       "      <th>0</th>\n",
       "      <td>2024-01-10</td>\n",
       "      <td>North</td>\n",
       "      <td>Ajay</td>\n",
       "      <td>Notebook</td>\n",
       "      <td>5</td>\n",
       "      <td>12</td>\n",
       "    </tr>\n",
       "    <tr>\n",
       "      <th>1</th>\n",
       "      <td>2024-01-11</td>\n",
       "      <td>South</td>\n",
       "      <td>Balu</td>\n",
       "      <td>Pen</td>\n",
       "      <td>10</td>\n",
       "      <td>3</td>\n",
       "    </tr>\n",
       "    <tr>\n",
       "      <th>2</th>\n",
       "      <td>2024-01-10</td>\n",
       "      <td>East</td>\n",
       "      <td>Chirag</td>\n",
       "      <td>Notebook</td>\n",
       "      <td>7</td>\n",
       "      <td>12</td>\n",
       "    </tr>\n",
       "    <tr>\n",
       "      <th>3</th>\n",
       "      <td>2024-01-12</td>\n",
       "      <td>West</td>\n",
       "      <td>Ajay</td>\n",
       "      <td>Pen</td>\n",
       "      <td>15</td>\n",
       "      <td>3</td>\n",
       "    </tr>\n",
       "    <tr>\n",
       "      <th>4</th>\n",
       "      <td>2024-01-11</td>\n",
       "      <td>North</td>\n",
       "      <td>Balu</td>\n",
       "      <td>Binder</td>\n",
       "      <td>20</td>\n",
       "      <td>5</td>\n",
       "    </tr>\n",
       "    <tr>\n",
       "      <th>5</th>\n",
       "      <td>2024-01-12</td>\n",
       "      <td>East</td>\n",
       "      <td>Chirag</td>\n",
       "      <td>Binder</td>\n",
       "      <td>10</td>\n",
       "      <td>5</td>\n",
       "    </tr>\n",
       "  </tbody>\n",
       "</table>\n",
       "</div>"
      ],
      "text/plain": [
       "        Date Region Salesperson   Product  Quantity  UnitPrice\n",
       "0 2024-01-10  North        Ajay  Notebook         5         12\n",
       "1 2024-01-11  South        Balu       Pen        10          3\n",
       "2 2024-01-10   East      Chirag  Notebook         7         12\n",
       "3 2024-01-12   West        Ajay       Pen        15          3\n",
       "4 2024-01-11  North        Balu    Binder        20          5\n",
       "5 2024-01-12   East      Chirag    Binder        10          5"
      ]
     },
     "execution_count": 3,
     "metadata": {},
     "output_type": "execute_result"
    }
   ],
   "source": [
    "data = {\n",
    "    'Date': pd.to_datetime(['2024-01-10', '2024-01-11', '2024-01-10', '2024-01-12', '2024-01-11', '2024-01-12']),\n",
    "    'Region': ['North', 'South', 'East', 'West', 'North', 'East'],\n",
    "    'Salesperson': ['Ajay', 'Balu', 'Chirag', 'Ajay', 'Balu', 'Chirag'],\n",
    "    'Product': ['Notebook', 'Pen', 'Notebook', 'Pen', 'Binder', 'Binder'],\n",
    "    'Quantity': [5, 10, 7, 15, 20, 10],\n",
    "    'UnitPrice': [12, 3, 12, 3, 5, 5]\n",
    "}\n",
    "df1 = pd.DataFrame(data)\n",
    "\n",
    "df1"
   ]
  },
  {
   "cell_type": "code",
   "execution_count": null,
   "id": "4ff311e8",
   "metadata": {},
   "outputs": [],
   "source": []
  },
  {
   "cell_type": "code",
   "execution_count": null,
   "id": "5a3a3fe6",
   "metadata": {},
   "outputs": [],
   "source": []
  },
  {
   "cell_type": "markdown",
   "id": "17f1903d",
   "metadata": {},
   "source": [
    "# 24 create a pivot table with index ass Nort and South and Columns as Product Where values are sum of Quantities Sold"
   ]
  },
  {
   "cell_type": "code",
   "execution_count": null,
   "id": "0f185240",
   "metadata": {},
   "outputs": [],
   "source": [
    "a) df1[df1['Region'].isin(['North', 'South'])].pivot_table(index='Region', columns='Product', values='Quantity', aggfunc='sum')\n",
    "b) df1[df1['Region'].isin(['North', 'South'])].pivot_table(index='Product', columns='Product', values='Quantity', aggfunc='sum')\n",
    "c) df1[(df1['Region']=='North')|(df1['Region']=='South')].pivot_table(index='Product', columns='Product', values='Quantity',        aggfunc='sum')\n",
    "d) df1[(df1['Region']=='North')|(df1['Region']=='South')].pivot_table(index='Product', columns='Product', values='Quantity', aggfunc='sum')"
   ]
  },
  {
   "cell_type": "markdown",
   "id": "0a238982",
   "metadata": {},
   "source": [
    "### Answer=a)\n",
    "\n",
    " df[df['Region'].isin(['North', 'South'])]\n",
    "df.pivot_table(values='Quantity', index='Region', columns='Product', aggfunc='sum')\n",
    "\n",
    " The isin(['North', 'South']) method checks whether each value in the 'Region' column is in the specified list\n",
    "\n",
    " index='Region': Sets the 'Region' column as the index of the pivot table.\n",
    " columns='Product': Sets the 'Product' column as the columns of the pivot table.\n",
    " aggfunc='sum': Specifies the aggregation function to be the sum\n",
    "\n",
    "\n",
    " Now, the pivot_table contains the sum of quantities sold for each combination of 'Region' and 'Product' where 'Region' is either 'North' or 'South'."
   ]
  },
  {
   "cell_type": "markdown",
   "id": "74d1cc98",
   "metadata": {},
   "source": [
    "# 25 Which of the following statements is/are True\n"
   ]
  },
  {
   "cell_type": "code",
   "execution_count": null,
   "id": "33afd70b",
   "metadata": {},
   "outputs": [],
   "source": [
    "a) .iloc method includes the last element when used for slicing\n",
    "b) .loc method doesn't includes the last element when used for slicing\n",
    "c) .loc method includes the last element and pass default integer index of rows when slicing\n",
    "d) None of above"
   ]
  },
  {
   "cell_type": "markdown",
   "id": "3e1cffba",
   "metadata": {},
   "source": [
    "### Answer= a)\n",
    "\n",
    " a) .loc method includes the last element when used for slicing.\n",
    " \n",
    "  .iloc is primarily integer-location based indexing for selection by position. When you use .iloc for slicing, it includes the start index but excludes the stop index. This is consistent with Python's standard slicing behavior.\n",
    "\n",
    " On the other hand, .loc is label-based indexing. When used for slicing, it includes both the start and stop indices."
   ]
  },
  {
   "cell_type": "markdown",
   "id": "f105203b",
   "metadata": {},
   "source": [
    "### When using the .loc method for slicing with labels, the range is inclusive of both the start and end labels.\n",
    "\n",
    "\n",
    "#### ex-\n",
    "\n",
    "#### df = pd.DataFrame({'A': [1, 2, 3, 4, 5]}, index=['a', 'b', 'c', 'd', 'e'])\n",
    "\n",
    "### .loc slicing, includes both 'b' and 'd'\n",
    "#### result = df.loc['b':'d', 'A']  # df.loc['b':'d', 'A'], 'b' is the starting label, and 'd' is the ending label. access the column 'A'\n",
    "##### print(result)"
   ]
  },
  {
   "cell_type": "markdown",
   "id": "0087a114",
   "metadata": {},
   "source": [
    "# 26. Using a pivot table is it possible to create a multi-index dataframe ,if so what is the syntax to have a multi index of date and region, with total product sold as values"
   ]
  },
  {
   "cell_type": "code",
   "execution_count": null,
   "id": "70886284",
   "metadata": {},
   "outputs": [],
   "source": [
    "a) No we can't create a multiindex table using pivot table\n",
    "b) df1.pivot_table(index = ['Date', 'Region'], columns = 'Product', values = 'Quantity', aggfunc = 'sum')\n",
    "c) df1.pivot_table(index = ['Date', 'Region'], columns = 'Product', values = 'Quantity', agg = 'sum')\n",
    "d) None of these"
   ]
  },
  {
   "cell_type": "markdown",
   "id": "669049ab",
   "metadata": {},
   "source": [
    "### Answer= b)\n",
    "\n",
    " df.pivot_table(index=['date', 'region'], columns='product', values='quantity', aggfunc='sum')\n",
    "Create a pivot table to summarize the total quantity of each product in each region on each date\n"
   ]
  },
  {
   "cell_type": "code",
   "execution_count": 4,
   "id": "b2ba7ffe",
   "metadata": {},
   "outputs": [
    {
     "data": {
      "text/html": [
       "<div>\n",
       "<style scoped>\n",
       "    .dataframe tbody tr th:only-of-type {\n",
       "        vertical-align: middle;\n",
       "    }\n",
       "\n",
       "    .dataframe tbody tr th {\n",
       "        vertical-align: top;\n",
       "    }\n",
       "\n",
       "    .dataframe thead th {\n",
       "        text-align: right;\n",
       "    }\n",
       "</style>\n",
       "<table border=\"1\" class=\"dataframe\">\n",
       "  <thead>\n",
       "    <tr style=\"text-align: right;\">\n",
       "      <th></th>\n",
       "      <th>Product</th>\n",
       "      <th>Binder</th>\n",
       "      <th>Notebook</th>\n",
       "      <th>Pen</th>\n",
       "    </tr>\n",
       "    <tr>\n",
       "      <th>Date</th>\n",
       "      <th>Region</th>\n",
       "      <th></th>\n",
       "      <th></th>\n",
       "      <th></th>\n",
       "    </tr>\n",
       "  </thead>\n",
       "  <tbody>\n",
       "    <tr>\n",
       "      <th rowspan=\"2\" valign=\"top\">2024-01-10</th>\n",
       "      <th>East</th>\n",
       "      <td>NaN</td>\n",
       "      <td>7.0</td>\n",
       "      <td>NaN</td>\n",
       "    </tr>\n",
       "    <tr>\n",
       "      <th>North</th>\n",
       "      <td>NaN</td>\n",
       "      <td>5.0</td>\n",
       "      <td>NaN</td>\n",
       "    </tr>\n",
       "    <tr>\n",
       "      <th rowspan=\"2\" valign=\"top\">2024-01-11</th>\n",
       "      <th>North</th>\n",
       "      <td>20.0</td>\n",
       "      <td>NaN</td>\n",
       "      <td>NaN</td>\n",
       "    </tr>\n",
       "    <tr>\n",
       "      <th>South</th>\n",
       "      <td>NaN</td>\n",
       "      <td>NaN</td>\n",
       "      <td>10.0</td>\n",
       "    </tr>\n",
       "    <tr>\n",
       "      <th rowspan=\"2\" valign=\"top\">2024-01-12</th>\n",
       "      <th>East</th>\n",
       "      <td>10.0</td>\n",
       "      <td>NaN</td>\n",
       "      <td>NaN</td>\n",
       "    </tr>\n",
       "    <tr>\n",
       "      <th>West</th>\n",
       "      <td>NaN</td>\n",
       "      <td>NaN</td>\n",
       "      <td>15.0</td>\n",
       "    </tr>\n",
       "  </tbody>\n",
       "</table>\n",
       "</div>"
      ],
      "text/plain": [
       "Product            Binder  Notebook   Pen\n",
       "Date       Region                        \n",
       "2024-01-10 East       NaN       7.0   NaN\n",
       "           North      NaN       5.0   NaN\n",
       "2024-01-11 North     20.0       NaN   NaN\n",
       "           South      NaN       NaN  10.0\n",
       "2024-01-12 East      10.0       NaN   NaN\n",
       "           West       NaN       NaN  15.0"
      ]
     },
     "execution_count": 4,
     "metadata": {},
     "output_type": "execute_result"
    }
   ],
   "source": [
    "df1.pivot_table(index = ['Date', 'Region'], columns = 'Product', values = 'Quantity', aggfunc = 'sum')"
   ]
  },
  {
   "cell_type": "markdown",
   "id": "db78470e",
   "metadata": {},
   "source": [
    "### > index=['date', 'region']: Specifies the columns to be used as the index for the pivot table. In this case, 'date' and 'region' are used to create a multi-index.\n",
    "\n",
    "### > columns='product': Specifies the column whose unique values will become the columns of the pivot table.\n",
    "\n",
    "### > values='quantity': Specifies the column whose values will be aggregated in the pivot table. Here, 'quantity' is the column containing the quantities sold.\n",
    "\n",
    "### > aggfunc='sum': Specifies the aggregation function to be used when aggregating values. In this case, the 'sum' function is used to calculate the total quantity sold for each combination of 'date', 'region', and 'product'."
   ]
  },
  {
   "cell_type": "markdown",
   "id": "05984d07",
   "metadata": {},
   "source": [
    "# 27 What does the margins parameter in pivot_table() allows to include in the pivot table"
   ]
  },
  {
   "cell_type": "code",
   "execution_count": null,
   "id": "ef895b2b",
   "metadata": {},
   "outputs": [],
   "source": [
    "a) additional margins  and subtotals for rows and columns \n",
    "b)  a list of column names to exclude from the pivot_table \n",
    "c) the numbers of rows and columns to skip at the beginning of the pivot table \n",
    "d) the maximum number of rows and columns to display the pivot table"
   ]
  },
  {
   "cell_type": "code",
   "execution_count": 6,
   "id": "14548c65",
   "metadata": {},
   "outputs": [
    {
     "data": {
      "text/html": [
       "<div>\n",
       "<style scoped>\n",
       "    .dataframe tbody tr th:only-of-type {\n",
       "        vertical-align: middle;\n",
       "    }\n",
       "\n",
       "    .dataframe tbody tr th {\n",
       "        vertical-align: top;\n",
       "    }\n",
       "\n",
       "    .dataframe thead th {\n",
       "        text-align: right;\n",
       "    }\n",
       "</style>\n",
       "<table border=\"1\" class=\"dataframe\">\n",
       "  <thead>\n",
       "    <tr style=\"text-align: right;\">\n",
       "      <th></th>\n",
       "      <th>Fruits</th>\n",
       "      <th>Price</th>\n",
       "    </tr>\n",
       "  </thead>\n",
       "  <tbody>\n",
       "    <tr>\n",
       "      <th>0</th>\n",
       "      <td>apple</td>\n",
       "      <td></td>\n",
       "    </tr>\n",
       "    <tr>\n",
       "      <th>1</th>\n",
       "      <td>banana</td>\n",
       "      <td></td>\n",
       "    </tr>\n",
       "    <tr>\n",
       "      <th>2</th>\n",
       "      <td>apple</td>\n",
       "      <td>205</td>\n",
       "    </tr>\n",
       "    <tr>\n",
       "      <th>3</th>\n",
       "      <td>apple</td>\n",
       "      <td>200</td>\n",
       "    </tr>\n",
       "    <tr>\n",
       "      <th>4</th>\n",
       "      <td>banana</td>\n",
       "      <td>40</td>\n",
       "    </tr>\n",
       "    <tr>\n",
       "      <th>5</th>\n",
       "      <td>apple</td>\n",
       "      <td>210</td>\n",
       "    </tr>\n",
       "    <tr>\n",
       "      <th>6</th>\n",
       "      <td>kiwi</td>\n",
       "      <td>300</td>\n",
       "    </tr>\n",
       "    <tr>\n",
       "      <th>7</th>\n",
       "      <td>kiwi</td>\n",
       "      <td>320</td>\n",
       "    </tr>\n",
       "    <tr>\n",
       "      <th>8</th>\n",
       "      <td>banana</td>\n",
       "      <td></td>\n",
       "    </tr>\n",
       "    <tr>\n",
       "      <th>9</th>\n",
       "      <td>apple</td>\n",
       "      <td>180</td>\n",
       "    </tr>\n",
       "    <tr>\n",
       "      <th>10</th>\n",
       "      <td>kiwi</td>\n",
       "      <td>350</td>\n",
       "    </tr>\n",
       "    <tr>\n",
       "      <th>11</th>\n",
       "      <td>apple</td>\n",
       "      <td></td>\n",
       "    </tr>\n",
       "    <tr>\n",
       "      <th>12</th>\n",
       "      <td>banana</td>\n",
       "      <td>35</td>\n",
       "    </tr>\n",
       "    <tr>\n",
       "      <th>13</th>\n",
       "      <td>grape</td>\n",
       "      <td></td>\n",
       "    </tr>\n",
       "    <tr>\n",
       "      <th>14</th>\n",
       "      <td>apple</td>\n",
       "      <td>215</td>\n",
       "    </tr>\n",
       "    <tr>\n",
       "      <th>15</th>\n",
       "      <td>banana</td>\n",
       "      <td>40</td>\n",
       "    </tr>\n",
       "    <tr>\n",
       "      <th>16</th>\n",
       "      <td>apple</td>\n",
       "      <td></td>\n",
       "    </tr>\n",
       "    <tr>\n",
       "      <th>17</th>\n",
       "      <td>apple</td>\n",
       "      <td></td>\n",
       "    </tr>\n",
       "    <tr>\n",
       "      <th>18</th>\n",
       "      <td>grape</td>\n",
       "      <td></td>\n",
       "    </tr>\n",
       "  </tbody>\n",
       "</table>\n",
       "</div>"
      ],
      "text/plain": [
       "    Fruits Price\n",
       "0    apple      \n",
       "1   banana      \n",
       "2    apple   205\n",
       "3    apple   200\n",
       "4   banana    40\n",
       "5    apple   210\n",
       "6     kiwi   300\n",
       "7     kiwi   320\n",
       "8   banana      \n",
       "9    apple   180\n",
       "10    kiwi   350\n",
       "11   apple      \n",
       "12  banana    35\n",
       "13   grape      \n",
       "14   apple   215\n",
       "15  banana    40\n",
       "16   apple      \n",
       "17   apple      \n",
       "18   grape      "
      ]
     },
     "execution_count": 6,
     "metadata": {},
     "output_type": "execute_result"
    }
   ],
   "source": [
    "data = {\n",
    "    'Fruits': ['apple', 'banana', 'apple', 'apple', 'banana', 'apple', 'kiwi', 'kiwi', 'banana', 'apple', 'kiwi', 'apple', 'banana', 'grape', 'apple', 'banana', 'apple', 'apple', 'grape'],\n",
    "    'Price': ['', '', 205, 200, 40, 210, 300, 320, '', 180, 350, '', 35, '', 215, 40, '', '', '']}\n",
    "\n",
    "df2 = pd.DataFrame(data)\n",
    "\n",
    "df2"
   ]
  },
  {
   "cell_type": "markdown",
   "id": "25b199d5",
   "metadata": {},
   "source": [
    "### Answer= a)\n",
    "\n",
    "a) additional margins and subtotals for rows and columns\n",
    "\n",
    "\n",
    "The margins parameter in the pivot_table function allows you to include additional margins and subtotals for rows and columns in the resulting pivot table. \n",
    "\n",
    "\n",
    "When you set margins=True, it adds the margins at the end of the rows and columns to display totals for rows, columns, and the grand total."
   ]
  },
  {
   "cell_type": "markdown",
   "id": "de0aae0c",
   "metadata": {},
   "source": [
    "# 28 If we choose to imputing missing values in Price Col by Chaining ffill() and bfill() while limiting the imputation to 1,1 respectively , how many missing values will be left post imputation"
   ]
  },
  {
   "cell_type": "raw",
   "id": "1d6a1028",
   "metadata": {},
   "source": [
    "a) 2\n",
    "b) 0\n",
    "c) 1\n",
    "d) 3"
   ]
  },
  {
   "cell_type": "raw",
   "id": "eaf1b41a",
   "metadata": {},
   "source": [
    "Answer= d) There are 3 missing values left after ffill & bfill imputation"
   ]
  },
  {
   "cell_type": "code",
   "execution_count": 3,
   "id": "ecf2040d",
   "metadata": {},
   "outputs": [
    {
     "data": {
      "text/html": [
       "<div>\n",
       "<style scoped>\n",
       "    .dataframe tbody tr th:only-of-type {\n",
       "        vertical-align: middle;\n",
       "    }\n",
       "\n",
       "    .dataframe tbody tr th {\n",
       "        vertical-align: top;\n",
       "    }\n",
       "\n",
       "    .dataframe thead th {\n",
       "        text-align: right;\n",
       "    }\n",
       "</style>\n",
       "<table border=\"1\" class=\"dataframe\">\n",
       "  <thead>\n",
       "    <tr style=\"text-align: right;\">\n",
       "      <th></th>\n",
       "      <th>Fruits</th>\n",
       "      <th>Price</th>\n",
       "    </tr>\n",
       "  </thead>\n",
       "  <tbody>\n",
       "    <tr>\n",
       "      <th>0</th>\n",
       "      <td>apple</td>\n",
       "      <td></td>\n",
       "    </tr>\n",
       "    <tr>\n",
       "      <th>1</th>\n",
       "      <td>banana</td>\n",
       "      <td></td>\n",
       "    </tr>\n",
       "    <tr>\n",
       "      <th>2</th>\n",
       "      <td>apple</td>\n",
       "      <td>205</td>\n",
       "    </tr>\n",
       "    <tr>\n",
       "      <th>3</th>\n",
       "      <td>apple</td>\n",
       "      <td>200</td>\n",
       "    </tr>\n",
       "    <tr>\n",
       "      <th>4</th>\n",
       "      <td>banana</td>\n",
       "      <td>40</td>\n",
       "    </tr>\n",
       "    <tr>\n",
       "      <th>5</th>\n",
       "      <td>apple</td>\n",
       "      <td>210</td>\n",
       "    </tr>\n",
       "    <tr>\n",
       "      <th>6</th>\n",
       "      <td>kiwi</td>\n",
       "      <td>300</td>\n",
       "    </tr>\n",
       "    <tr>\n",
       "      <th>7</th>\n",
       "      <td>kiwi</td>\n",
       "      <td>320</td>\n",
       "    </tr>\n",
       "    <tr>\n",
       "      <th>8</th>\n",
       "      <td>banana</td>\n",
       "      <td></td>\n",
       "    </tr>\n",
       "    <tr>\n",
       "      <th>9</th>\n",
       "      <td>apple</td>\n",
       "      <td>180</td>\n",
       "    </tr>\n",
       "    <tr>\n",
       "      <th>10</th>\n",
       "      <td>kiwi</td>\n",
       "      <td>350</td>\n",
       "    </tr>\n",
       "    <tr>\n",
       "      <th>11</th>\n",
       "      <td>apple</td>\n",
       "      <td></td>\n",
       "    </tr>\n",
       "    <tr>\n",
       "      <th>12</th>\n",
       "      <td>banana</td>\n",
       "      <td>35</td>\n",
       "    </tr>\n",
       "    <tr>\n",
       "      <th>13</th>\n",
       "      <td>grape</td>\n",
       "      <td></td>\n",
       "    </tr>\n",
       "    <tr>\n",
       "      <th>14</th>\n",
       "      <td>apple</td>\n",
       "      <td>215</td>\n",
       "    </tr>\n",
       "    <tr>\n",
       "      <th>15</th>\n",
       "      <td>banana</td>\n",
       "      <td>40</td>\n",
       "    </tr>\n",
       "    <tr>\n",
       "      <th>16</th>\n",
       "      <td>apple</td>\n",
       "      <td></td>\n",
       "    </tr>\n",
       "    <tr>\n",
       "      <th>17</th>\n",
       "      <td>apple</td>\n",
       "      <td></td>\n",
       "    </tr>\n",
       "    <tr>\n",
       "      <th>18</th>\n",
       "      <td>grape</td>\n",
       "      <td></td>\n",
       "    </tr>\n",
       "  </tbody>\n",
       "</table>\n",
       "</div>"
      ],
      "text/plain": [
       "    Fruits Price\n",
       "0    apple      \n",
       "1   banana      \n",
       "2    apple   205\n",
       "3    apple   200\n",
       "4   banana    40\n",
       "5    apple   210\n",
       "6     kiwi   300\n",
       "7     kiwi   320\n",
       "8   banana      \n",
       "9    apple   180\n",
       "10    kiwi   350\n",
       "11   apple      \n",
       "12  banana    35\n",
       "13   grape      \n",
       "14   apple   215\n",
       "15  banana    40\n",
       "16   apple      \n",
       "17   apple      \n",
       "18   grape      "
      ]
     },
     "execution_count": 3,
     "metadata": {},
     "output_type": "execute_result"
    }
   ],
   "source": [
    "df = pd.DataFrame({\n",
    "    'Fruits': ['apple', 'banana', 'apple', 'apple', 'banana', 'apple', 'kiwi', 'kiwi', 'banana', 'apple', 'kiwi', 'apple', 'banana', 'grape', 'apple', 'banana', 'apple', 'apple', 'grape'],\n",
    "    'Price': ['', '', 205, 200, 40, 210, 300, 320, '', 180, 350, '', 35, '', 215, 40, '', '', '']\n",
    "})\n",
    "df"
   ]
  },
  {
   "cell_type": "code",
   "execution_count": 7,
   "id": "d74d6991",
   "metadata": {},
   "outputs": [],
   "source": [
    "df2['Price'] = pd.to_numeric(df2['Price'])\n",
    "df2['Price'] = df2['Price'].ffill(limit=1).bfill(limit=1)"
   ]
  },
  {
   "cell_type": "code",
   "execution_count": 8,
   "id": "6f11e4a8",
   "metadata": {},
   "outputs": [
    {
     "data": {
      "text/html": [
       "<div>\n",
       "<style scoped>\n",
       "    .dataframe tbody tr th:only-of-type {\n",
       "        vertical-align: middle;\n",
       "    }\n",
       "\n",
       "    .dataframe tbody tr th {\n",
       "        vertical-align: top;\n",
       "    }\n",
       "\n",
       "    .dataframe thead th {\n",
       "        text-align: right;\n",
       "    }\n",
       "</style>\n",
       "<table border=\"1\" class=\"dataframe\">\n",
       "  <thead>\n",
       "    <tr style=\"text-align: right;\">\n",
       "      <th></th>\n",
       "      <th>Fruits</th>\n",
       "      <th>Price</th>\n",
       "    </tr>\n",
       "  </thead>\n",
       "  <tbody>\n",
       "    <tr>\n",
       "      <th>0</th>\n",
       "      <td>apple</td>\n",
       "      <td>NaN</td>\n",
       "    </tr>\n",
       "    <tr>\n",
       "      <th>1</th>\n",
       "      <td>banana</td>\n",
       "      <td>205.0</td>\n",
       "    </tr>\n",
       "    <tr>\n",
       "      <th>2</th>\n",
       "      <td>apple</td>\n",
       "      <td>205.0</td>\n",
       "    </tr>\n",
       "    <tr>\n",
       "      <th>3</th>\n",
       "      <td>apple</td>\n",
       "      <td>200.0</td>\n",
       "    </tr>\n",
       "    <tr>\n",
       "      <th>4</th>\n",
       "      <td>banana</td>\n",
       "      <td>40.0</td>\n",
       "    </tr>\n",
       "    <tr>\n",
       "      <th>5</th>\n",
       "      <td>apple</td>\n",
       "      <td>210.0</td>\n",
       "    </tr>\n",
       "    <tr>\n",
       "      <th>6</th>\n",
       "      <td>kiwi</td>\n",
       "      <td>300.0</td>\n",
       "    </tr>\n",
       "    <tr>\n",
       "      <th>7</th>\n",
       "      <td>kiwi</td>\n",
       "      <td>320.0</td>\n",
       "    </tr>\n",
       "    <tr>\n",
       "      <th>8</th>\n",
       "      <td>banana</td>\n",
       "      <td>320.0</td>\n",
       "    </tr>\n",
       "    <tr>\n",
       "      <th>9</th>\n",
       "      <td>apple</td>\n",
       "      <td>180.0</td>\n",
       "    </tr>\n",
       "    <tr>\n",
       "      <th>10</th>\n",
       "      <td>kiwi</td>\n",
       "      <td>350.0</td>\n",
       "    </tr>\n",
       "    <tr>\n",
       "      <th>11</th>\n",
       "      <td>apple</td>\n",
       "      <td>350.0</td>\n",
       "    </tr>\n",
       "    <tr>\n",
       "      <th>12</th>\n",
       "      <td>banana</td>\n",
       "      <td>35.0</td>\n",
       "    </tr>\n",
       "    <tr>\n",
       "      <th>13</th>\n",
       "      <td>grape</td>\n",
       "      <td>35.0</td>\n",
       "    </tr>\n",
       "    <tr>\n",
       "      <th>14</th>\n",
       "      <td>apple</td>\n",
       "      <td>215.0</td>\n",
       "    </tr>\n",
       "    <tr>\n",
       "      <th>15</th>\n",
       "      <td>banana</td>\n",
       "      <td>40.0</td>\n",
       "    </tr>\n",
       "    <tr>\n",
       "      <th>16</th>\n",
       "      <td>apple</td>\n",
       "      <td>40.0</td>\n",
       "    </tr>\n",
       "    <tr>\n",
       "      <th>17</th>\n",
       "      <td>apple</td>\n",
       "      <td>NaN</td>\n",
       "    </tr>\n",
       "    <tr>\n",
       "      <th>18</th>\n",
       "      <td>grape</td>\n",
       "      <td>NaN</td>\n",
       "    </tr>\n",
       "  </tbody>\n",
       "</table>\n",
       "</div>"
      ],
      "text/plain": [
       "    Fruits  Price\n",
       "0    apple    NaN\n",
       "1   banana  205.0\n",
       "2    apple  205.0\n",
       "3    apple  200.0\n",
       "4   banana   40.0\n",
       "5    apple  210.0\n",
       "6     kiwi  300.0\n",
       "7     kiwi  320.0\n",
       "8   banana  320.0\n",
       "9    apple  180.0\n",
       "10    kiwi  350.0\n",
       "11   apple  350.0\n",
       "12  banana   35.0\n",
       "13   grape   35.0\n",
       "14   apple  215.0\n",
       "15  banana   40.0\n",
       "16   apple   40.0\n",
       "17   apple    NaN\n",
       "18   grape    NaN"
      ]
     },
     "execution_count": 8,
     "metadata": {},
     "output_type": "execute_result"
    }
   ],
   "source": [
    "df2"
   ]
  },
  {
   "cell_type": "markdown",
   "id": "aed42c9c",
   "metadata": {},
   "source": [
    "# 29 What kind of missing values handling technique is appropriate for df2"
   ]
  },
  {
   "cell_type": "code",
   "execution_count": null,
   "id": "822de0cc",
   "metadata": {},
   "outputs": [],
   "source": [
    "a) imputing price col with price mean\n",
    "b) imputing price col with price median \n",
    "c) imputing price col with individual fruits price median\n",
    "d) dropping missing value"
   ]
  },
  {
   "cell_type": "markdown",
   "id": "5274a634",
   "metadata": {},
   "source": [
    "### > Observations:\n",
    "The 'Fruits' column represents different categories of fruits.\n",
    "\n",
    "### > Appropriate Technique:\n",
    "\n",
    "Since the missing values in the 'Price' column are related to different fruits, imputing with the overall mean or median may not be the best approach\n",
    "\n",
    "A more appropriate technique would be to impute the missing values in the 'Price' column with the median of each fruit's prices."
   ]
  },
  {
   "cell_type": "markdown",
   "id": "6c54f093",
   "metadata": {},
   "source": [
    "### Answer = a)\n",
    "\n",
    "imputing price col with individual fruits price median"
   ]
  },
  {
   "cell_type": "markdown",
   "id": "a7361137",
   "metadata": {},
   "source": [
    "# 30 If we choose to impute missing values in Price col by with individual Fruits' Price's mean, how many missing values will be post imputation?"
   ]
  },
  {
   "cell_type": "raw",
   "id": "2d70955d",
   "metadata": {},
   "source": [
    "a) 2\n",
    "b) 0\n",
    "c) 1\n",
    "d) 3"
   ]
  },
  {
   "cell_type": "markdown",
   "id": "078a6905",
   "metadata": {},
   "source": [
    "### Answer = b)"
   ]
  },
  {
   "cell_type": "code",
   "execution_count": 10,
   "id": "929edc80",
   "metadata": {},
   "outputs": [
    {
     "data": {
      "text/html": [
       "<div>\n",
       "<style scoped>\n",
       "    .dataframe tbody tr th:only-of-type {\n",
       "        vertical-align: middle;\n",
       "    }\n",
       "\n",
       "    .dataframe tbody tr th {\n",
       "        vertical-align: top;\n",
       "    }\n",
       "\n",
       "    .dataframe thead th {\n",
       "        text-align: right;\n",
       "    }\n",
       "</style>\n",
       "<table border=\"1\" class=\"dataframe\">\n",
       "  <thead>\n",
       "    <tr style=\"text-align: right;\">\n",
       "      <th></th>\n",
       "      <th>Fruits</th>\n",
       "      <th>Price</th>\n",
       "    </tr>\n",
       "  </thead>\n",
       "  <tbody>\n",
       "    <tr>\n",
       "      <th>0</th>\n",
       "      <td>apple</td>\n",
       "      <td>205.0</td>\n",
       "    </tr>\n",
       "    <tr>\n",
       "      <th>1</th>\n",
       "      <td>banana</td>\n",
       "      <td>205.0</td>\n",
       "    </tr>\n",
       "    <tr>\n",
       "      <th>2</th>\n",
       "      <td>apple</td>\n",
       "      <td>205.0</td>\n",
       "    </tr>\n",
       "    <tr>\n",
       "      <th>3</th>\n",
       "      <td>apple</td>\n",
       "      <td>200.0</td>\n",
       "    </tr>\n",
       "    <tr>\n",
       "      <th>4</th>\n",
       "      <td>banana</td>\n",
       "      <td>40.0</td>\n",
       "    </tr>\n",
       "    <tr>\n",
       "      <th>5</th>\n",
       "      <td>apple</td>\n",
       "      <td>210.0</td>\n",
       "    </tr>\n",
       "    <tr>\n",
       "      <th>6</th>\n",
       "      <td>kiwi</td>\n",
       "      <td>300.0</td>\n",
       "    </tr>\n",
       "    <tr>\n",
       "      <th>7</th>\n",
       "      <td>kiwi</td>\n",
       "      <td>320.0</td>\n",
       "    </tr>\n",
       "    <tr>\n",
       "      <th>8</th>\n",
       "      <td>banana</td>\n",
       "      <td>320.0</td>\n",
       "    </tr>\n",
       "    <tr>\n",
       "      <th>9</th>\n",
       "      <td>apple</td>\n",
       "      <td>180.0</td>\n",
       "    </tr>\n",
       "    <tr>\n",
       "      <th>10</th>\n",
       "      <td>kiwi</td>\n",
       "      <td>350.0</td>\n",
       "    </tr>\n",
       "    <tr>\n",
       "      <th>11</th>\n",
       "      <td>apple</td>\n",
       "      <td>350.0</td>\n",
       "    </tr>\n",
       "    <tr>\n",
       "      <th>12</th>\n",
       "      <td>banana</td>\n",
       "      <td>35.0</td>\n",
       "    </tr>\n",
       "    <tr>\n",
       "      <th>13</th>\n",
       "      <td>grape</td>\n",
       "      <td>35.0</td>\n",
       "    </tr>\n",
       "    <tr>\n",
       "      <th>14</th>\n",
       "      <td>apple</td>\n",
       "      <td>215.0</td>\n",
       "    </tr>\n",
       "    <tr>\n",
       "      <th>15</th>\n",
       "      <td>banana</td>\n",
       "      <td>40.0</td>\n",
       "    </tr>\n",
       "    <tr>\n",
       "      <th>16</th>\n",
       "      <td>apple</td>\n",
       "      <td>40.0</td>\n",
       "    </tr>\n",
       "    <tr>\n",
       "      <th>17</th>\n",
       "      <td>apple</td>\n",
       "      <td>205.0</td>\n",
       "    </tr>\n",
       "    <tr>\n",
       "      <th>18</th>\n",
       "      <td>grape</td>\n",
       "      <td>35.0</td>\n",
       "    </tr>\n",
       "  </tbody>\n",
       "</table>\n",
       "</div>"
      ],
      "text/plain": [
       "    Fruits  Price\n",
       "0    apple  205.0\n",
       "1   banana  205.0\n",
       "2    apple  205.0\n",
       "3    apple  200.0\n",
       "4   banana   40.0\n",
       "5    apple  210.0\n",
       "6     kiwi  300.0\n",
       "7     kiwi  320.0\n",
       "8   banana  320.0\n",
       "9    apple  180.0\n",
       "10    kiwi  350.0\n",
       "11   apple  350.0\n",
       "12  banana   35.0\n",
       "13   grape   35.0\n",
       "14   apple  215.0\n",
       "15  banana   40.0\n",
       "16   apple   40.0\n",
       "17   apple  205.0\n",
       "18   grape   35.0"
      ]
     },
     "execution_count": 10,
     "metadata": {},
     "output_type": "execute_result"
    }
   ],
   "source": [
    "\n",
    "df2['Price'] = pd.to_numeric(df2['Price'])\n",
    "df2['Price'] = df2.groupby('Fruits')['Price'].transform(lambda x: x.fillna(x.median()))\n",
    "df2\n"
   ]
  },
  {
   "cell_type": "markdown",
   "id": "2cfbc9be",
   "metadata": {},
   "source": [
    "# 31 a = pd.Series([np.nan, 1, 2, np.nan, np.nan, np.nan, np.nan, 4, 5, 7]) What will be the output of a.interpolate()"
   ]
  },
  {
   "cell_type": "code",
   "execution_count": null,
   "id": "18f21bd3",
   "metadata": {},
   "outputs": [],
   "source": [
    "a) [nan,1.0,2.0,2.3,2.7,3.1,3.5,4.0,5.0,7.0]\n",
    "b) [nan,1.0,2.0,2.5,2.9,3.3,3.8,4.0,5.0,7.0]\n",
    "c) [nan,1.0,2.0,2.4,2.8,3.2,3.6,4.0,5.0,7.0]\n",
    "d) Error"
   ]
  },
  {
   "cell_type": "code",
   "execution_count": 7,
   "id": "62513807",
   "metadata": {},
   "outputs": [],
   "source": [
    "import numpy as np"
   ]
  },
  {
   "cell_type": "code",
   "execution_count": 8,
   "id": "6ac3a06d",
   "metadata": {},
   "outputs": [],
   "source": [
    "a=pd.Series([np.nan, 1,2, np.nan, np.nan,np.nan, np.nan, 4, 5, 7])  # # Create a pandas Series with some NaN values"
   ]
  },
  {
   "cell_type": "code",
   "execution_count": 9,
   "id": "ef817a4e",
   "metadata": {},
   "outputs": [
    {
     "data": {
      "text/plain": [
       "0    NaN\n",
       "1    1.0\n",
       "2    2.0\n",
       "3    NaN\n",
       "4    NaN\n",
       "5    NaN\n",
       "6    NaN\n",
       "7    4.0\n",
       "8    5.0\n",
       "9    7.0\n",
       "dtype: float64"
      ]
     },
     "execution_count": 9,
     "metadata": {},
     "output_type": "execute_result"
    }
   ],
   "source": [
    "a"
   ]
  },
  {
   "cell_type": "code",
   "execution_count": 10,
   "id": "fd596bff",
   "metadata": {},
   "outputs": [
    {
     "data": {
      "text/plain": [
       "0    NaN\n",
       "1    1.0\n",
       "2    2.0\n",
       "3    2.4\n",
       "4    2.8\n",
       "5    3.2\n",
       "6    3.6\n",
       "7    4.0\n",
       "8    5.0\n",
       "9    7.0\n",
       "dtype: float64"
      ]
     },
     "execution_count": 10,
     "metadata": {},
     "output_type": "execute_result"
    }
   ],
   "source": [
    "a.interpolate() # Use the interpolate method to fill NaN values with linear interpolation"
   ]
  },
  {
   "cell_type": "markdown",
   "id": "370d3a4c",
   "metadata": {},
   "source": [
    "### > pd.Series: This creates a pandas Series, which is a one-dimensional labeled array, from the given list [np.nan, 1, 2, np.nan, np.nan, np.nan, np.nan, 4, 5, 7]\n",
    "\n",
    "### > a.interpolate(): This is calling the interpolate method on the Series a. The interpolate method fills NaN values in the Series using linear interpolation\n",
    "\n",
    "### >Linear Interpolation: Linear interpolation is a method to estimate values between two known values. In this case, the NaN values in the Series are filled by linearly interpolating between the existing values."
   ]
  },
  {
   "cell_type": "code",
   "execution_count": null,
   "id": "896eead9",
   "metadata": {},
   "outputs": [],
   "source": []
  },
  {
   "cell_type": "markdown",
   "id": "f1364b1d",
   "metadata": {},
   "source": [
    "# 32 What is the use of the normalization parameter in the crosstab method of pandas"
   ]
  },
  {
   "cell_type": "code",
   "execution_count": null,
   "id": "46d11e32",
   "metadata": {},
   "outputs": [],
   "source": [
    "a) It is used to normalize values by dividing them by the total count\n",
    "b) to add margins\n",
    "c) ther is no parameter called as normalize in crosstab\n",
    "d) Both a & c"
   ]
  },
  {
   "cell_type": "markdown",
   "id": "ae8aad4c",
   "metadata": {},
   "source": [
    "### Answer = a)\n",
    "\n",
    "It used to normalize values by dividing them by the total count"
   ]
  },
  {
   "cell_type": "markdown",
   "id": "e1d11eb2",
   "metadata": {},
   "source": [
    "### The normalize parameter in the crosstab method is used to normalize the computed cross-tabulation by dividing all values by the sum of values, resulting in proportions or percentages."
   ]
  },
  {
   "cell_type": "code",
   "execution_count": null,
   "id": "c5422b09",
   "metadata": {},
   "outputs": [],
   "source": []
  },
  {
   "cell_type": "code",
   "execution_count": 11,
   "id": "7aac23e1",
   "metadata": {},
   "outputs": [
    {
     "data": {
      "text/html": [
       "<div>\n",
       "<style scoped>\n",
       "    .dataframe tbody tr th:only-of-type {\n",
       "        vertical-align: middle;\n",
       "    }\n",
       "\n",
       "    .dataframe tbody tr th {\n",
       "        vertical-align: top;\n",
       "    }\n",
       "\n",
       "    .dataframe thead th {\n",
       "        text-align: right;\n",
       "    }\n",
       "</style>\n",
       "<table border=\"1\" class=\"dataframe\">\n",
       "  <thead>\n",
       "    <tr style=\"text-align: right;\">\n",
       "      <th></th>\n",
       "      <th>Age Group</th>\n",
       "      <th>Favorite Color</th>\n",
       "      <th>Gender</th>\n",
       "      <th>Has Pet</th>\n",
       "    </tr>\n",
       "  </thead>\n",
       "  <tbody>\n",
       "    <tr>\n",
       "      <th>0</th>\n",
       "      <td>26-35</td>\n",
       "      <td>Blue</td>\n",
       "      <td>Male</td>\n",
       "      <td>Yes</td>\n",
       "    </tr>\n",
       "    <tr>\n",
       "      <th>1</th>\n",
       "      <td>18-25</td>\n",
       "      <td>Red</td>\n",
       "      <td>Female</td>\n",
       "      <td>Yes</td>\n",
       "    </tr>\n",
       "    <tr>\n",
       "      <th>2</th>\n",
       "      <td>18-25</td>\n",
       "      <td>Red</td>\n",
       "      <td>Male</td>\n",
       "      <td>Yes</td>\n",
       "    </tr>\n",
       "    <tr>\n",
       "      <th>3</th>\n",
       "      <td>26-35</td>\n",
       "      <td>Blue</td>\n",
       "      <td>Female</td>\n",
       "      <td>Yes</td>\n",
       "    </tr>\n",
       "    <tr>\n",
       "      <th>4</th>\n",
       "      <td>18-25</td>\n",
       "      <td>Red</td>\n",
       "      <td>Female</td>\n",
       "      <td>Yes</td>\n",
       "    </tr>\n",
       "    <tr>\n",
       "      <th>5</th>\n",
       "      <td>18-25</td>\n",
       "      <td>Blue</td>\n",
       "      <td>Female</td>\n",
       "      <td>No</td>\n",
       "    </tr>\n",
       "  </tbody>\n",
       "</table>\n",
       "</div>"
      ],
      "text/plain": [
       "  Age Group Favorite Color  Gender Has Pet\n",
       "0     26-35           Blue    Male     Yes\n",
       "1     18-25            Red  Female     Yes\n",
       "2     18-25            Red    Male     Yes\n",
       "3     26-35           Blue  Female     Yes\n",
       "4     18-25            Red  Female     Yes\n",
       "5     18-25           Blue  Female      No"
      ]
     },
     "execution_count": 11,
     "metadata": {},
     "output_type": "execute_result"
    }
   ],
   "source": [
    "df = pd.DataFrame({'Age Group': ['26-35', '18-25', '18-25', '26-35', '18-25', '18-25'],\n",
    "    'Favorite Color': ['Blue', 'Red', 'Red', 'Blue', 'Red', 'Blue'],\n",
    "    'Gender': ['Male', 'Female', 'Male', 'Female', 'Female', 'Female'],\n",
    "    'Has Pet': ['Yes', 'Yes', 'Yes', 'Yes', 'Yes', 'No']})\n",
    "df"
   ]
  },
  {
   "cell_type": "raw",
   "id": "ddcc5aff",
   "metadata": {},
   "source": [
    "Answer = a)\n",
    "\n",
    "It used to normalize values by dividing them by the total count"
   ]
  },
  {
   "cell_type": "markdown",
   "id": "e5753289",
   "metadata": {},
   "source": [
    "# 33  What is the probability of finding a Male and having a Pet in df3?"
   ]
  },
  {
   "cell_type": "code",
   "execution_count": null,
   "id": "0057f3a4",
   "metadata": {},
   "outputs": [],
   "source": [
    "a)0.333\n",
    "b)0.666\n",
    "c)0.5\n",
    "d)0.1667"
   ]
  },
  {
   "cell_type": "code",
   "execution_count": 15,
   "id": "7233714d",
   "metadata": {},
   "outputs": [
    {
     "name": "stdout",
     "output_type": "stream",
     "text": [
      "0.3333333333333333\n"
     ]
    }
   ],
   "source": [
    "total_observations = len(df)\n",
    "male_has_pet = len(df[(df['Gender'] == 'Male') & (df['Has Pet'] == 'Yes')])\n",
    "probability = male_has_pet / total_observations\n",
    "\n",
    "print(probability)"
   ]
  },
  {
   "cell_type": "markdown",
   "id": "479d7c6b",
   "metadata": {},
   "source": [
    "### So, the probability of finding a Male and having a Pet is:\n",
    "\n",
    "                Number of Males with Pet\n",
    "### Probability= --------------------------\n",
    "                 Total Number of Males\n",
    "                 \n",
    "               2\n",
    "### Probability= ----- = 1\n",
    "               2\n",
    "               \n",
    "### However, it seems that the correct probability is 1, which is not listed among the provided options (a, b, c, d). If we consider the closest option, it would be:\n",
    "\n",
    "### a) 0.333             "
   ]
  },
  {
   "cell_type": "code",
   "execution_count": null,
   "id": "51a4879c",
   "metadata": {},
   "outputs": [],
   "source": []
  },
  {
   "cell_type": "markdown",
   "id": "b7e72242",
   "metadata": {},
   "source": [
    "# 34  What is the probabilty of finding a person having Pet given they belong to the age group 18-25 in df3"
   ]
  },
  {
   "cell_type": "code",
   "execution_count": null,
   "id": "ac322b2a",
   "metadata": {},
   "outputs": [],
   "source": [
    "a) 0.25\n",
    "b) 0\n",
    "c) 0.75\n",
    "d) 1"
   ]
  },
  {
   "cell_type": "code",
   "execution_count": 12,
   "id": "98d395ae",
   "metadata": {},
   "outputs": [
    {
     "name": "stdout",
     "output_type": "stream",
     "text": [
      "The probability of finding a person having a pet given they belong to the age group 18-25 is: 0.75\n"
     ]
    }
   ],
   "source": [
    "total_count = len(df[df['Age Group'] == '18-25'])\n",
    "pet_count = len(df[(df['Age Group'] == '18-25') & (df['Has Pet'] == 'Yes')])\n",
    "\n",
    "# Probability = (Number of people with pets in the age group 18-25) / (Total number of people in the age group 18-25)\n",
    "probability = pet_count / total_count\n",
    "\n",
    "# Print the result\n",
    "print(f\"The probability of finding a person having a pet given they belong to the age group 18-25 is: {probability:.2f}\")"
   ]
  },
  {
   "cell_type": "markdown",
   "id": "49cd60c1",
   "metadata": {},
   "source": [
    "# 35 Which distribution is appropriate for modeling the number of defects in a large batch of products"
   ]
  },
  {
   "cell_type": "code",
   "execution_count": null,
   "id": "a00ac94d",
   "metadata": {},
   "outputs": [],
   "source": [
    "a) Normal\n",
    "b) Binomial\n",
    "c) Bernouli\n",
    "d) Uniform"
   ]
  },
  {
   "cell_type": "markdown",
   "id": "c0f8fcfe",
   "metadata": {},
   "source": [
    "### Answer = b)\n",
    "\n",
    "binomial "
   ]
  },
  {
   "cell_type": "markdown",
   "id": "76096220",
   "metadata": {},
   "source": [
    "### The binomial distribution is suitable when the following conditions are met:\n",
    "    \n",
    "    \n",
    "1.There are a fixed number of trials or products in the batch (each product being a trial).\n",
    "2.Each trial (product) can result in one of two outcomes: defective or non-defective.\n",
    "3.The trials are independent.\n",
    "4.The probability of success (defect) is constant for each trial.\n",
    "\n",
    "\n",
    "In the context of defects in a batch of products, the binomial distribution can be used to model the number of defective items in a fixed-size batch, assuming each item can be either defective or non-defective, and the probability of a defect is constant across items."
   ]
  },
  {
   "cell_type": "markdown",
   "id": "9143f2d9",
   "metadata": {},
   "source": [
    "# 36. A survey asks participants to rate their satisfaction with product on a scale of 1 to 5 What type of data is being collected"
   ]
  },
  {
   "cell_type": "markdown",
   "id": "b0ed3f01",
   "metadata": {},
   "source": [
    "a) Categorical data\n",
    "b) Ordinal data\n",
    "c) Continuous data\n",
    "d) Discrete data\n"
   ]
  },
  {
   "cell_type": "markdown",
   "id": "744efb97",
   "metadata": {},
   "source": [
    "### Answer= b)\n",
    "\n",
    "Ordinal data represents categories with a meaningful order or ranking but does not have a consistent interval between the categories. In this case, the satisfaction ratings on a scale of 1 to 5 have a clear order, indicating the level of satisfaction from lower to higher."
   ]
  },
  {
   "cell_type": "markdown",
   "id": "db364a0b",
   "metadata": {},
   "source": [
    "# 37. From given fig. in question , what kind of distribution does the data follow"
   ]
  },
  {
   "cell_type": "code",
   "execution_count": null,
   "id": "3181642d",
   "metadata": {},
   "outputs": [],
   "source": [
    "a) Right skewed\n",
    "b) Left skewed\n",
    "c) Normal\n",
    "d) Uniform"
   ]
  },
  {
   "cell_type": "markdown",
   "id": "8ee227b6",
   "metadata": {},
   "source": [
    "### Answer = a) Right skewed"
   ]
  },
  {
   "cell_type": "markdown",
   "id": "5c457704",
   "metadata": {},
   "source": [
    "### > Mode, Median, Mean Relationship:\n",
    "The mode (the most frequent value) is usually less than the median.\n",
    "The median is positioned between the mode and the mean.\n",
    "The mean is typically greater than the median.\n",
    "\n",
    "\n",
    "### > Tail:\n",
    "The right tail is longer and extends further than the left tail.\n",
    "There are relatively few extreme values on the left side, but there can be some very large values on the right side.\n",
    "\n",
    "### > Shape:\n",
    "The bulk of the data is concentrated on the left, making the distribution appear lopsided to the right.\n",
    "The right-skewed shape is sometimes referred to as \"skewed to the right\" or \"positively skewed.\"\n",
    "\n",
    "### > Histogram:\n",
    "In a histogram, the bars are lower on the right side and higher on the left side, creating an asymmetrical appearance.\n"
   ]
  },
  {
   "cell_type": "markdown",
   "id": "80869670",
   "metadata": {},
   "source": [
    "# 38 In data with outliers , what is the best measure to estimate the dispersion"
   ]
  },
  {
   "cell_type": "code",
   "execution_count": null,
   "id": "2d901e24",
   "metadata": {},
   "outputs": [],
   "source": [
    "a) Standard Deviation\n",
    "b) Z-score\n",
    "c) Median Absolute Deviation\n",
    "d) Uniform"
   ]
  },
  {
   "cell_type": "markdown",
   "id": "d7e9d93a",
   "metadata": {},
   "source": [
    "### Answer = c) Median Absolute Deviation"
   ]
  },
  {
   "cell_type": "markdown",
   "id": "48d95fed",
   "metadata": {},
   "source": [
    "### > Standard Deviation (a): Standard deviation is sensitive to outliers because it involves squaring the differences between each data point and the mean. Outliers can have a significant impact on the squared differences, leading to an inflated standard deviation\n",
    "\n",
    "\n",
    "### > Z-score (b): The Z-score is a measure of how many standard deviations a data point is from the mean. While it can identify outliers, it relies on the standard deviation and can be influenced by extreme values\n",
    "\n",
    "\n",
    "### > Median Absolute Deviation (c): MAD is calculated based on the median of the data, making it less sensitive to outliers. It measures the dispersion by taking the median of the absolute differences between each data point and the median of the dataset. MAD is not affected by extreme values in the same way as standard deviation\n",
    "\n",
    "\n",
    "### > Uniform (d): \"Uniform\" is not a common measure of dispersion in statistics. It doesn't represent a specific statistical method for handling data with outliers\n",
    "\n",
    "### In summary, MAD is a more robust measure of dispersion in the presence of outliers because it relies on the median, which is less influenced by extreme values than the mean. "
   ]
  },
  {
   "cell_type": "code",
   "execution_count": null,
   "id": "e4bf12f8",
   "metadata": {},
   "outputs": [],
   "source": []
  }
 ],
 "metadata": {
  "kernelspec": {
   "display_name": "Python 3 (ipykernel)",
   "language": "python",
   "name": "python3"
  },
  "language_info": {
   "codemirror_mode": {
    "name": "ipython",
    "version": 3
   },
   "file_extension": ".py",
   "mimetype": "text/x-python",
   "name": "python",
   "nbconvert_exporter": "python",
   "pygments_lexer": "ipython3",
   "version": "3.11.5"
  }
 },
 "nbformat": 4,
 "nbformat_minor": 5
}
