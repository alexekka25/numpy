{
 "cells": [
  {
   "cell_type": "code",
   "execution_count": 1,
   "id": "7c3db1c8",
   "metadata": {},
   "outputs": [],
   "source": [
    "import numpy as np"
   ]
  },
  {
   "cell_type": "code",
   "execution_count": 4,
   "id": "4841b252",
   "metadata": {},
   "outputs": [],
   "source": [
    "data =np.genfromtxt( r\"C:\\Users\\ALEX\\Downloads\\Sample_data.csv\",delimiter=',',skip_header=1)"
   ]
  },
  {
   "cell_type": "code",
   "execution_count": 5,
   "id": "b786f854",
   "metadata": {},
   "outputs": [
    {
     "data": {
      "text/plain": [
       "array([[ 0., 25., 40.],\n",
       "       [ 1., 30., 35.],\n",
       "       [ 2., 28., 38.],\n",
       "       [ 3., 32., 41.],\n",
       "       [ 4., 26., 37.],\n",
       "       [ 5., 29., 36.],\n",
       "       [ 6., 27., 39.],\n",
       "       [ 7., 33., 42.],\n",
       "       [ 8., 31., 38.],\n",
       "       [ 9., 28., 37.],\n",
       "       [10., 30., 40.],\n",
       "       [11., 29., 36.]])"
      ]
     },
     "execution_count": 5,
     "metadata": {},
     "output_type": "execute_result"
    }
   ],
   "source": [
    "data"
   ]
  },
  {
   "cell_type": "markdown",
   "id": "84c39756",
   "metadata": {},
   "source": [
    "# Measures of Central Tendency"
   ]
  },
  {
   "cell_type": "markdown",
   "id": "a916b19c",
   "metadata": {},
   "source": [
    "### 1.Calculate the mean sales for Product A and Product B. Compare the average monthly sales for the two products and discuss any observed trends.\n"
   ]
  },
  {
   "cell_type": "code",
   "execution_count": 16,
   "id": "cb88b6ec",
   "metadata": {},
   "outputs": [],
   "source": [
    "average_sales_productA = data[:,1].mean()\n",
    "average_sales_productB = data[:,2].mean()"
   ]
  },
  {
   "cell_type": "code",
   "execution_count": 17,
   "id": "61c84a4b",
   "metadata": {},
   "outputs": [
    {
     "data": {
      "text/plain": [
       "29.0"
      ]
     },
     "execution_count": 17,
     "metadata": {},
     "output_type": "execute_result"
    }
   ],
   "source": [
    "average_sales_productA  \n"
   ]
  },
  {
   "cell_type": "code",
   "execution_count": 18,
   "id": "364542ee",
   "metadata": {},
   "outputs": [
    {
     "data": {
      "text/plain": [
       "38.25"
      ]
     },
     "execution_count": 18,
     "metadata": {},
     "output_type": "execute_result"
    }
   ],
   "source": [
    "average_sales_productB"
   ]
  },
  {
   "cell_type": "markdown",
   "id": "1890eb8c",
   "metadata": {},
   "source": [
    "### Product B has higher average monthly sales compared to Product A."
   ]
  },
  {
   "cell_type": "markdown",
   "id": "127a383f",
   "metadata": {},
   "source": [
    "### 2.Find the median sales for each product and discuss how it reflects the central tendency of the sales distribution."
   ]
  },
  {
   "cell_type": "code",
   "execution_count": 23,
   "id": "08a10997",
   "metadata": {},
   "outputs": [],
   "source": [
    "median_sales_productA = np.median(data[:, 1])\n",
    "median_sales_productB = np.median(data[:, 2])\n"
   ]
  },
  {
   "cell_type": "code",
   "execution_count": 24,
   "id": "a228e71b",
   "metadata": {},
   "outputs": [
    {
     "data": {
      "text/plain": [
       "29.0"
      ]
     },
     "execution_count": 24,
     "metadata": {},
     "output_type": "execute_result"
    }
   ],
   "source": [
    "median_sales_productA  \n"
   ]
  },
  {
   "cell_type": "code",
   "execution_count": 25,
   "id": "5af6303b",
   "metadata": {},
   "outputs": [
    {
     "data": {
      "text/plain": [
       "38.0"
      ]
     },
     "execution_count": 25,
     "metadata": {},
     "output_type": "execute_result"
    }
   ],
   "source": [
    "median_sales_productB \n"
   ]
  },
  {
   "cell_type": "markdown",
   "id": "28f491f2",
   "metadata": {},
   "source": [
    "### The median sales for each product reflect the central tendency of the sales distribution, indicating that half of ### the months had sales above this number and half below. The median sales for Product A and Product B are ### consistent with their respective average sales"
   ]
  },
  {
   "cell_type": "markdown",
   "id": "172e144e",
   "metadata": {},
   "source": [
    "### 3.Identify the mode of the sales data for both Product A and Product B. Discuss the significance of the mode in the context of these products."
   ]
  },
  {
   "cell_type": "code",
   "execution_count": 48,
   "id": "163b4287",
   "metadata": {},
   "outputs": [
    {
     "name": "stdout",
     "output_type": "stream",
     "text": [
      "Mode Sale for Product A :  30.0\n",
      "Mode Sale for Product B :  40.0\n"
     ]
    }
   ],
   "source": [
    "import statistics\n",
    "\n",
    "Product_A = data[:,1]\n",
    "Product_B = data[:,2]\n",
    "\n",
    "a = statistics.mode(Product_A)\n",
    "b = statistics.mode(Product_B)\n",
    "\n",
    "print('Mode Sale for Product A : ', a)\n",
    "print('Mode Sale for Product B : ', b)"
   ]
  },
  {
   "cell_type": "markdown",
   "id": "a7cde504",
   "metadata": {},
   "source": [
    "#### For both Product A and Product B, there are multiple sales values that occur with the same highest frequency.\n",
    "#### The presence of multiple modes can suggest that the sales data may have several peaks in its distribution "
   ]
  },
  {
   "cell_type": "markdown",
   "id": "1d318ab9",
   "metadata": {},
   "source": [
    "### 4.Calculate the weighted mean of the sales data, assuming each month has an equal weight. Discuss any implications of using weighted mean in this context."
   ]
  },
  {
   "cell_type": "code",
   "execution_count": 31,
   "id": "a4b92108",
   "metadata": {},
   "outputs": [
    {
     "name": "stdout",
     "output_type": "stream",
     "text": [
      "Weighted mean for Product A: 29.0\n",
      "Weighted mean for Product B: 38.25\n"
     ]
    }
   ],
   "source": [
    "weighted_mean_productA = data[:,1].mean()\n",
    "weighted_mean_productB = data[:,2].mean()\n",
    "\n",
    "\n",
    "print('Weighted mean for Product A:', weighted_mean_productA)\n",
    "print('Weighted mean for Product B:', weighted_mean_productB)"
   ]
  },
  {
   "cell_type": "markdown",
   "id": "aa82fe36",
   "metadata": {},
   "source": [
    "#### where each month has an equal weight, is the same as the arithmetic mean. It represents the average sales per month for each product when all months are considered equally important"
   ]
  },
  {
   "cell_type": "markdown",
   "id": "581fd34e",
   "metadata": {},
   "source": [
    "# Measures of Dispersion"
   ]
  },
  {
   "cell_type": "markdown",
   "id": "89acb2d6",
   "metadata": {},
   "source": [
    "### 1.Compute the range of monthly sales for both Product A and Product B. Discuss how the range provides insights into the variability of sales."
   ]
  },
  {
   "cell_type": "code",
   "execution_count": 33,
   "id": "1bc856cc",
   "metadata": {},
   "outputs": [
    {
     "name": "stdout",
     "output_type": "stream",
     "text": [
      "Range of monthly sales for Product A: 8.0\n",
      "Range of monthly sales for Product B: 7.0\n"
     ]
    }
   ],
   "source": [
    "productA = data[:,1].max() - data[:,1].min()\n",
    "productB = data[:,2].max() - data[:,2].min()\n",
    "\n",
    "print('Range of monthly sales for Product A:', productA)\n",
    "print('Range of monthly sales for Product B:', productB)"
   ]
  },
  {
   "cell_type": "markdown",
   "id": "dd957406",
   "metadata": {},
   "source": [
    "### 2.Calculate the variance of the sales data for both products. Discuss what the variance reveals about the spread of sales for each product\n"
   ]
  },
  {
   "cell_type": "code",
   "execution_count": 34,
   "id": "26da9b8d",
   "metadata": {},
   "outputs": [
    {
     "name": "stdout",
     "output_type": "stream",
     "text": [
      "Variance of sales for Product A: 5.166666666666667\n",
      "Variance of sales for Product B: 4.354166666666667\n"
     ]
    }
   ],
   "source": [
    "productA = data[:,1].var()\n",
    "productB = data[:,2].var()\n",
    "\n",
    "print('Variance of sales for Product A:', productA)\n",
    "print('Variance of sales for Product B:', productB)"
   ]
  },
  {
   "cell_type": "markdown",
   "id": "1302b204",
   "metadata": {},
   "source": [
    "### Product A has a slightly higher variance than Product B"
   ]
  },
  {
   "cell_type": "markdown",
   "id": "39fe1d6f",
   "metadata": {},
   "source": [
    "### 3.Determine the standard deviation of the sales for Product A and Product B. Discuss the significance of standard deviation in understanding the variability in sales."
   ]
  },
  {
   "cell_type": "code",
   "execution_count": 35,
   "id": "ed0e01fb",
   "metadata": {},
   "outputs": [
    {
     "name": "stdout",
     "output_type": "stream",
     "text": [
      "Standard deviation of sales for Product A: 2.273030282830976\n",
      "Standard deviation of sales for Product B: 2.0866640042581523\n"
     ]
    }
   ],
   "source": [
    "productA = data[:,1].std()\n",
    "productB = data[:,2].std()\n",
    "\n",
    "print('Standard deviation of sales for Product A:', productA)\n",
    "print('Standard deviation of sales for Product B:', productB)"
   ]
  },
  {
   "cell_type": "markdown",
   "id": "a2d20d0a",
   "metadata": {},
   "source": [
    "### Product A has a higher standard deviation compared to Product B. showing greater variability in its monthly sales figures"
   ]
  },
  {
   "cell_type": "markdown",
   "id": "67d62d60",
   "metadata": {},
   "source": [
    "# Relative Measures of Dispersion"
   ]
  },
  {
   "cell_type": "markdown",
   "id": "bf8533b1",
   "metadata": {},
   "source": [
    "### 1.Calculate the coefficient of variation for the sales data of Product A. Discuss how this relative measure of dispersion helps in comparing the variability of products with different average sales."
   ]
  },
  {
   "cell_type": "code",
   "execution_count": 38,
   "id": "3dc0530b",
   "metadata": {},
   "outputs": [
    {
     "name": "stdout",
     "output_type": "stream",
     "text": [
      "Coefficient of variation for Product A: 7.838035458037848\n"
     ]
    }
   ],
   "source": [
    "mean_productA = data[:,1].mean()\n",
    "std_productA = data[:,1].std()\n",
    "coefficient_of_variation_productA = (std_productA / mean_productA)*100\n",
    "\n",
    "print('Coefficient of variation for Product A:', coefficient_of_variation_productA)"
   ]
  },
  {
   "cell_type": "markdown",
   "id": "ee64c8b1",
   "metadata": {},
   "source": [
    "### 2.Compute the relative range for Product B. Discuss how the relative range accounts for the scale of the sales data.\n"
   ]
  },
  {
   "cell_type": "code",
   "execution_count": 39,
   "id": "1c197bc7",
   "metadata": {},
   "outputs": [
    {
     "name": "stdout",
     "output_type": "stream",
     "text": [
      "Relative range for Product B: 18.30065359477124\n"
     ]
    }
   ],
   "source": [
    "max_productB = data[:,2].max()\n",
    "min_productB = data[:,2].min()\n",
    "mean_productB = data[:,2].mean()\n",
    "relative_range_productB = (max_productB - min_productB) / mean_productB*100\n",
    "\n",
    "print('Relative range for Product B:', relative_range_productB)"
   ]
  },
  {
   "cell_type": "markdown",
   "id": "2e1a95b1",
   "metadata": {},
   "source": [
    "### which means the range of sales data is 18.3% of the mean sales for product B"
   ]
  },
  {
   "cell_type": "markdown",
   "id": "ba4cd3b4",
   "metadata": {},
   "source": [
    "### 3.Determine the relative standard deviation for Product A. Interpret the result and discuss its implications for understanding the variability relative to the mean."
   ]
  },
  {
   "cell_type": "code",
   "execution_count": 40,
   "id": "ed4e509f",
   "metadata": {},
   "outputs": [
    {
     "name": "stdout",
     "output_type": "stream",
     "text": [
      "relative standard deviation for Product A: 7.838035458037848\n"
     ]
    }
   ],
   "source": [
    "mean_productA = data[:,1].mean()\n",
    "std_productA = data[:,1].std()\n",
    "coefficient_of_variation_productA = (std_productA / mean_productA)*100\n",
    "\n",
    "print('relative standard deviation for Product A:', coefficient_of_variation_productA)"
   ]
  },
  {
   "cell_type": "code",
   "execution_count": null,
   "id": "f59f51e7",
   "metadata": {},
   "outputs": [],
   "source": []
  }
 ],
 "metadata": {
  "kernelspec": {
   "display_name": "Python 3 (ipykernel)",
   "language": "python",
   "name": "python3"
  },
  "language_info": {
   "codemirror_mode": {
    "name": "ipython",
    "version": 3
   },
   "file_extension": ".py",
   "mimetype": "text/x-python",
   "name": "python",
   "nbconvert_exporter": "python",
   "pygments_lexer": "ipython3",
   "version": "3.11.5"
  }
 },
 "nbformat": 4,
 "nbformat_minor": 5
}
