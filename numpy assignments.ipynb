{
 "cells": [
  {
   "cell_type": "code",
   "execution_count": 1,
   "id": "fc2d9099",
   "metadata": {},
   "outputs": [],
   "source": [
    "import numpy as np"
   ]
  },
  {
   "cell_type": "code",
   "execution_count": 4,
   "id": "9bcac280",
   "metadata": {},
   "outputs": [],
   "source": [
    "data =np.genfromtxt( r\"C:\\Users\\ALEX\\Downloads\\Sample_data.csv\",delimiter=',',skip_header=1)"
   ]
  },
  {
   "cell_type": "code",
   "execution_count": 5,
   "id": "abec814f",
   "metadata": {},
   "outputs": [
    {
     "data": {
      "text/plain": [
       "array([[ 0., 25., 40.],\n",
       "       [ 1., 30., 35.],\n",
       "       [ 2., 28., 38.],\n",
       "       [ 3., 32., 41.],\n",
       "       [ 4., 26., 37.],\n",
       "       [ 5., 29., 36.],\n",
       "       [ 6., 27., 39.],\n",
       "       [ 7., 33., 42.],\n",
       "       [ 8., 31., 38.],\n",
       "       [ 9., 28., 37.],\n",
       "       [10., 30., 40.],\n",
       "       [11., 29., 36.]])"
      ]
     },
     "execution_count": 5,
     "metadata": {},
     "output_type": "execute_result"
    }
   ],
   "source": [
    "data"
   ]
  },
  {
   "cell_type": "markdown",
   "id": "5d5121ce",
   "metadata": {},
   "source": [
    "# Measures of Central Tendency"
   ]
  },
  {
   "cell_type": "markdown",
   "id": "d452c8e7",
   "metadata": {},
   "source": [
    "### 1.Calculate the mean sales for Product A and Product B. Compare the average monthly sales for the two products and discuss any observed trends.\n"
   ]
  },
  {
   "cell_type": "code",
   "execution_count": 16,
   "id": "6c862d87",
   "metadata": {},
   "outputs": [],
   "source": [
    "average_sales_productA = data[:,1].mean()\n",
    "average_sales_productB = data[:,2].mean()"
   ]
  },
  {
   "cell_type": "code",
   "execution_count": 17,
   "id": "4823abff",
   "metadata": {},
   "outputs": [
    {
     "data": {
      "text/plain": [
       "29.0"
      ]
     },
     "execution_count": 17,
     "metadata": {},
     "output_type": "execute_result"
    }
   ],
   "source": [
    "average_sales_productA  \n"
   ]
  },
  {
   "cell_type": "code",
   "execution_count": 18,
   "id": "70e0e14a",
   "metadata": {},
   "outputs": [
    {
     "data": {
      "text/plain": [
       "38.25"
      ]
     },
     "execution_count": 18,
     "metadata": {},
     "output_type": "execute_result"
    }
   ],
   "source": [
    "average_sales_productB"
   ]
  },
  {
   "cell_type": "markdown",
   "id": "630e053e",
   "metadata": {},
   "source": [
    "### Product B has higher average monthly sales compared to Product A."
   ]
  },
  {
   "cell_type": "markdown",
   "id": "2d75e724",
   "metadata": {},
   "source": [
    "### 2.Find the median sales for each product and discuss how it reflects the central tendency of the sales distribution."
   ]
  },
  {
   "cell_type": "code",
   "execution_count": 23,
   "id": "a0ae478a",
   "metadata": {},
   "outputs": [],
   "source": [
    "median_sales_productA = np.median(data[:, 1])\n",
    "median_sales_productB = np.median(data[:, 2])\n"
   ]
  },
  {
   "cell_type": "code",
   "execution_count": 24,
   "id": "9fef9ca3",
   "metadata": {},
   "outputs": [
    {
     "data": {
      "text/plain": [
       "29.0"
      ]
     },
     "execution_count": 24,
     "metadata": {},
     "output_type": "execute_result"
    }
   ],
   "source": [
    "median_sales_productA  \n"
   ]
  },
  {
   "cell_type": "code",
   "execution_count": 25,
   "id": "a7e2028b",
   "metadata": {},
   "outputs": [
    {
     "data": {
      "text/plain": [
       "38.0"
      ]
     },
     "execution_count": 25,
     "metadata": {},
     "output_type": "execute_result"
    }
   ],
   "source": [
    "median_sales_productB \n"
   ]
  },
  {
   "cell_type": "markdown",
   "id": "b308a79f",
   "metadata": {},
   "source": [
    "### The median sales for each product reflect the central tendency of the sales distribution, indicating that half of ### the months had sales above this number and half below. The median sales for Product A and Product B are ### consistent with their respective average sales"
   ]
  },
  {
   "cell_type": "markdown",
   "id": "a158911d",
   "metadata": {},
   "source": [
    "### 3.Identify the mode of the sales data for both Product A and Product B. Discuss the significance of the mode in the context of these products."
   ]
  },
  {
   "cell_type": "code",
   "execution_count": 30,
   "id": "87fdd1c1",
   "metadata": {},
   "outputs": [
    {
     "name": "stdout",
     "output_type": "stream",
     "text": [
      "Mode of Product A: 28.0\n",
      "Mode of Product B: 36.0\n"
     ]
    }
   ],
   "source": [
    "productA = data[:, 1]\n",
    "productB = data[:, 2]\n",
    "\n",
    "unique_values_A, counts_A = np.unique(productA, return_counts=True)\n",
    "mode_productA = unique_values_A[np.argmax(counts_A)]\n",
    "\n",
    "unique_values_B, counts_B = np.unique(productB, return_counts=True)\n",
    "mode_productB = unique_values_B[np.argmax(counts_B)]\n",
    "\n",
    "print(\"Mode of Product A:\", mode_productA)\n",
    "print(\"Mode of Product B:\", mode_productB)"
   ]
  },
  {
   "cell_type": "markdown",
   "id": "11a613de",
   "metadata": {},
   "source": [
    "#### For both Product A and Product B, there are multiple sales values that occur with the same highest frequency.\n",
    "#### The presence of multiple modes can suggest that the sales data may have several peaks in its distribution "
   ]
  },
  {
   "cell_type": "markdown",
   "id": "e0fb394e",
   "metadata": {},
   "source": [
    "### 4.Calculate the weighted mean of the sales data, assuming each month has an equal weight. Discuss any implications of using weighted mean in this context."
   ]
  },
  {
   "cell_type": "code",
   "execution_count": 31,
   "id": "41fd4b04",
   "metadata": {},
   "outputs": [
    {
     "name": "stdout",
     "output_type": "stream",
     "text": [
      "Weighted mean for Product A: 29.0\n",
      "Weighted mean for Product B: 38.25\n"
     ]
    }
   ],
   "source": [
    "weighted_mean_productA = data[:,1].mean()\n",
    "weighted_mean_productB = data[:,2].mean()\n",
    "\n",
    "\n",
    "print('Weighted mean for Product A:', weighted_mean_productA)\n",
    "print('Weighted mean for Product B:', weighted_mean_productB)"
   ]
  },
  {
   "cell_type": "markdown",
   "id": "f1150b80",
   "metadata": {},
   "source": [
    "#### where each month has an equal weight, is the same as the arithmetic mean. It represents the average sales per month for each product when all months are considered equally important"
   ]
  },
  {
   "cell_type": "markdown",
   "id": "386b6018",
   "metadata": {},
   "source": [
    "# Measures of Dispersion"
   ]
  },
  {
   "cell_type": "markdown",
   "id": "b5d3055d",
   "metadata": {},
   "source": [
    "### 1.Compute the range of monthly sales for both Product A and Product B. Discuss how the range provides insights into the variability of sales."
   ]
  },
  {
   "cell_type": "code",
   "execution_count": 33,
   "id": "b7eb9b17",
   "metadata": {},
   "outputs": [
    {
     "name": "stdout",
     "output_type": "stream",
     "text": [
      "Range of monthly sales for Product A: 8.0\n",
      "Range of monthly sales for Product B: 7.0\n"
     ]
    }
   ],
   "source": [
    "productA = data[:,1].max() - data[:,1].min()\n",
    "productB = data[:,2].max() - data[:,2].min()\n",
    "\n",
    "print('Range of monthly sales for Product A:', productA)\n",
    "print('Range of monthly sales for Product B:', productB)"
   ]
  },
  {
   "cell_type": "markdown",
   "id": "eb5930cc",
   "metadata": {},
   "source": [
    "### 2.Calculate the variance of the sales data for both products. Discuss what the variance reveals about the spread of sales for each product\n"
   ]
  },
  {
   "cell_type": "code",
   "execution_count": 34,
   "id": "62790af3",
   "metadata": {},
   "outputs": [
    {
     "name": "stdout",
     "output_type": "stream",
     "text": [
      "Variance of sales for Product A: 5.166666666666667\n",
      "Variance of sales for Product B: 4.354166666666667\n"
     ]
    }
   ],
   "source": [
    "productA = data[:,1].var()\n",
    "productB = data[:,2].var()\n",
    "\n",
    "print('Variance of sales for Product A:', productA)\n",
    "print('Variance of sales for Product B:', productB)"
   ]
  },
  {
   "cell_type": "markdown",
   "id": "60d38f56",
   "metadata": {},
   "source": [
    "### Product A has a slightly higher variance than Product B"
   ]
  },
  {
   "cell_type": "markdown",
   "id": "2db74981",
   "metadata": {},
   "source": [
    "### 3.Determine the standard deviation of the sales for Product A and Product B. Discuss the significance of standard deviation in understanding the variability in sales."
   ]
  },
  {
   "cell_type": "code",
   "execution_count": 35,
   "id": "01f11cef",
   "metadata": {},
   "outputs": [
    {
     "name": "stdout",
     "output_type": "stream",
     "text": [
      "Standard deviation of sales for Product A: 2.273030282830976\n",
      "Standard deviation of sales for Product B: 2.0866640042581523\n"
     ]
    }
   ],
   "source": [
    "productA = data[:,1].std()\n",
    "productB = data[:,2].std()\n",
    "\n",
    "print('Standard deviation of sales for Product A:', productA)\n",
    "print('Standard deviation of sales for Product B:', productB)"
   ]
  },
  {
   "cell_type": "markdown",
   "id": "68828cd0",
   "metadata": {},
   "source": [
    "### Product A has a higher standard deviation compared to Product B. showing greater variability in its monthly sales figures"
   ]
  },
  {
   "cell_type": "markdown",
   "id": "1a9a7c66",
   "metadata": {},
   "source": [
    "# Relative Measures of Dispersion"
   ]
  },
  {
   "cell_type": "markdown",
   "id": "403cf08e",
   "metadata": {},
   "source": [
    "### 1.Calculate the coefficient of variation for the sales data of Product A. Discuss how this relative measure of dispersion helps in comparing the variability of products with different average sales."
   ]
  },
  {
   "cell_type": "code",
   "execution_count": 38,
   "id": "31550771",
   "metadata": {},
   "outputs": [
    {
     "name": "stdout",
     "output_type": "stream",
     "text": [
      "Coefficient of variation for Product A: 7.838035458037848\n"
     ]
    }
   ],
   "source": [
    "mean_productA = data[:,1].mean()\n",
    "std_productA = data[:,1].std()\n",
    "coefficient_of_variation_productA = (std_productA / mean_productA)*100\n",
    "\n",
    "print('Coefficient of variation for Product A:', coefficient_of_variation_productA)"
   ]
  },
  {
   "cell_type": "markdown",
   "id": "edd99c41",
   "metadata": {},
   "source": [
    "### 2.Compute the relative range for Product B. Discuss how the relative range accounts for the scale of the sales data.\n"
   ]
  },
  {
   "cell_type": "code",
   "execution_count": 39,
   "id": "e83456dd",
   "metadata": {},
   "outputs": [
    {
     "name": "stdout",
     "output_type": "stream",
     "text": [
      "Relative range for Product B: 18.30065359477124\n"
     ]
    }
   ],
   "source": [
    "max_productB = data[:,2].max()\n",
    "min_productB = data[:,2].min()\n",
    "mean_productB = data[:,2].mean()\n",
    "relative_range_productB = (max_productB - min_productB) / mean_productB*100\n",
    "\n",
    "print('Relative range for Product B:', relative_range_productB)"
   ]
  },
  {
   "cell_type": "markdown",
   "id": "f706d1ec",
   "metadata": {},
   "source": [
    "### which means the range of sales data is 18.3% of the mean sales for product B"
   ]
  },
  {
   "cell_type": "markdown",
   "id": "5f84fb91",
   "metadata": {},
   "source": [
    "### 3.Determine the relative standard deviation for Product A. Interpret the result and discuss its implications for understanding the variability relative to the mean."
   ]
  },
  {
   "cell_type": "code",
   "execution_count": 40,
   "id": "d4312fff",
   "metadata": {},
   "outputs": [
    {
     "name": "stdout",
     "output_type": "stream",
     "text": [
      "relative standard deviation for Product A: 7.838035458037848\n"
     ]
    }
   ],
   "source": [
    "mean_productA = data[:,1].mean()\n",
    "std_productA = data[:,1].std()\n",
    "coefficient_of_variation_productA = (std_productA / mean_productA)*100\n",
    "\n",
    "print('relative standard deviation for Product A:', coefficient_of_variation_productA)"
   ]
  },
  {
   "cell_type": "code",
   "execution_count": null,
   "id": "dfe8754e",
   "metadata": {},
   "outputs": [],
   "source": []
  }
 ],
 "metadata": {
  "kernelspec": {
   "display_name": "Python 3 (ipykernel)",
   "language": "python",
   "name": "python3"
  },
  "language_info": {
   "codemirror_mode": {
    "name": "ipython",
    "version": 3
   },
   "file_extension": ".py",
   "mimetype": "text/x-python",
   "name": "python",
   "nbconvert_exporter": "python",
   "pygments_lexer": "ipython3",
   "version": "3.11.5"
  }
 },
 "nbformat": 4,
 "nbformat_minor": 5
}
