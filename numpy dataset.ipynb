{
 "cells": [
  {
   "cell_type": "code",
   "execution_count": 1,
   "id": "8f5a7039",
   "metadata": {},
   "outputs": [],
   "source": [
    "import numpy as np"
   ]
  },
  {
   "cell_type": "code",
   "execution_count": 78,
   "id": "a0b54dc1",
   "metadata": {},
   "outputs": [],
   "source": [
    "fpath = r\"D:\\tipsf.csv\""
   ]
  },
  {
   "cell_type": "code",
   "execution_count": 79,
   "id": "d0bd57bc",
   "metadata": {},
   "outputs": [
    {
     "data": {
      "text/plain": [
       "array([nan, nan, nan, nan, nan, nan, nan, nan, nan, nan, nan, nan, nan,\n",
       "       nan, nan, nan, nan, nan, nan, nan, nan, nan, nan, nan, nan, nan,\n",
       "       nan, nan, nan, nan, nan, nan, nan, nan, nan, nan, nan, nan, nan,\n",
       "       nan, nan, nan, nan, nan, nan, nan, nan, nan, nan, nan, nan, nan,\n",
       "       nan, nan, nan, nan, nan, nan, nan, nan, nan, nan, nan, nan, nan,\n",
       "       nan, nan, nan, nan, nan, nan, nan, nan, nan, nan, nan, nan, nan,\n",
       "       nan, nan, nan, nan, nan, nan, nan, nan, nan, nan, nan, nan, nan,\n",
       "       nan, nan, nan, nan, nan, nan, nan, nan, nan, nan, nan, nan, nan,\n",
       "       nan, nan, nan, nan, nan, nan, nan, nan, nan, nan, nan, nan, nan,\n",
       "       nan, nan, nan, nan, nan, nan, nan, nan, nan, nan, nan, nan, nan,\n",
       "       nan, nan, nan, nan, nan, nan, nan, nan, nan, nan, nan, nan, nan,\n",
       "       nan, nan, nan, nan, nan, nan, nan, nan, nan, nan, nan, nan, nan,\n",
       "       nan, nan, nan, nan, nan, nan, nan, nan, nan, nan, nan, nan, nan,\n",
       "       nan, nan, nan, nan, nan, nan, nan, nan, nan, nan, nan, nan, nan,\n",
       "       nan, nan, nan, nan, nan, nan, nan, nan, nan, nan, nan, nan, nan,\n",
       "       nan, nan, nan, nan, nan, nan, nan, nan, nan, nan, nan, nan, nan,\n",
       "       nan, nan, nan, nan, nan, nan, nan, nan, nan, nan, nan, nan, nan,\n",
       "       nan, nan, nan, nan, nan, nan, nan, nan, nan, nan, nan, nan, nan,\n",
       "       nan, nan, nan, nan, nan, nan, nan, nan, nan, nan, nan])"
      ]
     },
     "execution_count": 79,
     "metadata": {},
     "output_type": "execute_result"
    }
   ],
   "source": [
    "np.genfromtxt(fpath, )"
   ]
  },
  {
   "cell_type": "code",
   "execution_count": 80,
   "id": "0c63eabf",
   "metadata": {},
   "outputs": [
    {
     "data": {
      "text/plain": [
       "array([[  0.  ,  16.99,   1.01, ...,   1.  ,   0.  ,   2.  ],\n",
       "       [  1.  ,  10.34,   1.66, ...,   1.  ,   0.  ,   3.  ],\n",
       "       [  2.  ,  21.01,   3.5 , ...,   1.  ,   0.  ,   3.  ],\n",
       "       ...,\n",
       "       [241.  ,  22.67,   2.  , ...,   0.  ,   0.  ,   2.  ],\n",
       "       [242.  ,  17.82,   1.75, ...,   0.  ,   0.  ,   2.  ],\n",
       "       [243.  ,  18.78,   3.  , ...,   2.  ,   0.  ,   2.  ]])"
      ]
     },
     "execution_count": 80,
     "metadata": {},
     "output_type": "execute_result"
    }
   ],
   "source": [
    "n=np.genfromtxt(fpath, delimiter = ',',skip_header = True)\n",
    "n"
   ]
  },
  {
   "cell_type": "markdown",
   "id": "300c9fea",
   "metadata": {},
   "source": [
    "# 1. What is the total bill value"
   ]
  },
  {
   "cell_type": "code",
   "execution_count": 81,
   "id": "c9ab4193",
   "metadata": {},
   "outputs": [
    {
     "data": {
      "text/plain": [
       "4827.77"
      ]
     },
     "execution_count": 81,
     "metadata": {},
     "output_type": "execute_result"
    }
   ],
   "source": [
    "total = np.sum(n[:,1]) \n",
    "total"
   ]
  },
  {
   "cell_type": "markdown",
   "id": "7e21326b",
   "metadata": {},
   "source": [
    "# 2. what is the total tip value ?"
   ]
  },
  {
   "cell_type": "code",
   "execution_count": 32,
   "id": "521bedca",
   "metadata": {},
   "outputs": [
    {
     "data": {
      "text/plain": [
       "731.5799999999999"
      ]
     },
     "execution_count": 32,
     "metadata": {},
     "output_type": "execute_result"
    }
   ],
   "source": [
    "total = np.sum(n[:,2]) \n",
    "total"
   ]
  },
  {
   "cell_type": "markdown",
   "id": "9960b32e",
   "metadata": {},
   "source": [
    "# 3. count how many sun,sat,thur,fri are there ?"
   ]
  },
  {
   "cell_type": "code",
   "execution_count": 38,
   "id": "083e0afc",
   "metadata": {},
   "outputs": [
    {
     "name": "stdout",
     "output_type": "stream",
     "text": [
      "Sunday   :  87\n",
      "Saturday :  76\n",
      "Friday   :  62\n",
      "Thursday :  19\n"
     ]
    }
   ],
   "source": [
    "column= n[:, 5]\n",
    "unique_values, counts = np.unique(column, return_counts=True)\n",
    "zip(unique_values, counts)\n",
    "print('Sunday   : ',counts[0])\n",
    "print('Saturday : ',counts[1])\n",
    "print('Friday   : ',counts[2])\n",
    "print('Thursday : ',counts[3])"
   ]
  },
  {
   "cell_type": "markdown",
   "id": "c75c617a",
   "metadata": {},
   "source": [
    "# 4. how many smokers are there "
   ]
  },
  {
   "cell_type": "code",
   "execution_count": 55,
   "id": "f8395e16",
   "metadata": {},
   "outputs": [
    {
     "data": {
      "text/plain": [
       "93.0"
      ]
     },
     "execution_count": 55,
     "metadata": {},
     "output_type": "execute_result"
    }
   ],
   "source": [
    "smokers = np.sum(n[:,4])\n",
    "smokers"
   ]
  },
  {
   "cell_type": "markdown",
   "id": "114e56b8",
   "metadata": {},
   "source": [
    "# 5. what is the average tip given by female and male "
   ]
  },
  {
   "cell_type": "code",
   "execution_count": 86,
   "id": "0adcc915",
   "metadata": {},
   "outputs": [
    {
     "name": "stdout",
     "output_type": "stream",
     "text": [
      "number of male : 87\n",
      "number of female : 157\n"
     ]
    }
   ],
   "source": [
    "male = np.count_nonzero(n[:,3] == 0)\n",
    "female = np.count_nonzero(n[:,3] == 1)\n",
    "print(\"number of male :\",male)\n",
    "print(\"number of female :\",female)\n"
   ]
  },
  {
   "cell_type": "code",
   "execution_count": 89,
   "id": "e651e9ab",
   "metadata": {},
   "outputs": [
    {
     "name": "stdout",
     "output_type": "stream",
     "text": [
      "male average tip :  2.8334482758620685\n",
      "female average tip :  3.0896178343949043\n"
     ]
    }
   ],
   "source": [
    "tip = n[:,2]\n",
    "sex = n[:,3] \n",
    "tip_male = np.mean(tip[sex == 0])\n",
    "print(\"male average tip : \",tip_male)\n",
    "tip_female = np.mean(tip[sex == 1])\n",
    "print(\"female average tip : \",tip_female)\n"
   ]
  },
  {
   "cell_type": "markdown",
   "id": "48c5c0b6",
   "metadata": {},
   "source": [
    "# 6. how much amount have been spent by female and male"
   ]
  },
  {
   "cell_type": "code",
   "execution_count": 97,
   "id": "bd9477ee",
   "metadata": {},
   "outputs": [
    {
     "name": "stdout",
     "output_type": "stream",
     "text": [
      "male spent amount : 1570.9499999999996\n",
      "female spent amount:  3256.8199999999997\n"
     ]
    }
   ],
   "source": [
    "total=n[:,1]\n",
    "gender=n[:,3]\n",
    "\n",
    "male=np.sum(total[gender==0])\n",
    "female=np.sum(total[gender==1])\n",
    "print(\"male spent amount :\",male)\n",
    "print(\"female spent amount: \",female)"
   ]
  },
  {
   "cell_type": "markdown",
   "id": "dcc0b847",
   "metadata": {},
   "source": [
    "# 7.what is the min, and max tip given"
   ]
  },
  {
   "cell_type": "code",
   "execution_count": 101,
   "id": "038457cc",
   "metadata": {},
   "outputs": [
    {
     "name": "stdout",
     "output_type": "stream",
     "text": [
      "minimum tip : 1.0\n",
      "maximum tip : 10.0\n"
     ]
    }
   ],
   "source": [
    "mini_max=n[:,2]\n",
    "\n",
    "mi=np.min(mini_max)\n",
    "mx=np.max(mini_max)\n",
    "print(\"minimum tip :\",mi)\n",
    "print(\"maximum tip :\",mx)\n"
   ]
  },
  {
   "cell_type": "markdown",
   "id": "02fbb29e",
   "metadata": {},
   "source": [
    "# 8. how many male and female are going for lunch and dinner"
   ]
  },
  {
   "cell_type": "code",
   "execution_count": 105,
   "id": "942dbec1",
   "metadata": {},
   "outputs": [
    {
     "name": "stdout",
     "output_type": "stream",
     "text": [
      "male lunch : 52\n",
      "female lunch : 124\n"
     ]
    }
   ],
   "source": [
    "sex=n[:,3]\n",
    "time=n[:,6]\n",
    "\n",
    "male_lunch = np.sum((time == 0) & (sex==0))\n",
    "female_lunch = np.sum((time==0) & (sex==1))\n",
    "\n",
    "print(\"male lunch :\",male_lunch)\n",
    "print(\"female lunch :\",female_lunch)"
   ]
  },
  {
   "cell_type": "code",
   "execution_count": 106,
   "id": "49a4b5fd",
   "metadata": {},
   "outputs": [
    {
     "name": "stdout",
     "output_type": "stream",
     "text": [
      "male lunch : 35\n",
      "female lunch : 33\n"
     ]
    }
   ],
   "source": [
    "sex=n[:,3]\n",
    "time=n[:,6]\n",
    "\n",
    "male_dinner = np.sum((time == 1) & (sex==0))\n",
    "female_dinner = np.sum((time==1) & (sex==1))\n",
    "\n",
    "print(\"male lunch :\",male_dinner)\n",
    "print(\"female lunch :\",female_dinner)"
   ]
  },
  {
   "cell_type": "markdown",
   "id": "2b96801a",
   "metadata": {},
   "source": [
    "# 9.find out the average size"
   ]
  },
  {
   "cell_type": "code",
   "execution_count": 109,
   "id": "884ad9ce",
   "metadata": {},
   "outputs": [
    {
     "name": "stdout",
     "output_type": "stream",
     "text": [
      "average is : 2.569672131147541\n"
     ]
    }
   ],
   "source": [
    "size = n[:,7]\n",
    "\n",
    "avg=np.mean(size)\n",
    "\n",
    "print(\"average is :\",avg)"
   ]
  },
  {
   "cell_type": "markdown",
   "id": "7fcf93e5",
   "metadata": {},
   "source": [
    "# 10. how many female smokers and male smokers are there"
   ]
  },
  {
   "cell_type": "code",
   "execution_count": 120,
   "id": "ce304e72",
   "metadata": {},
   "outputs": [
    {
     "name": "stdout",
     "output_type": "stream",
     "text": [
      "male smokers : 33.0\n",
      "female smokers:  60.0\n"
     ]
    }
   ],
   "source": [
    "sex = n[:,3]\n",
    "smoker = n[:,4]\n",
    "\n",
    "male=np.sum(smoker[sex==0])\n",
    "female=np.sum(smoker[sex==1])\n",
    "print(\"male smokers :\",male)\n",
    "print(\"female smokers: \",female)"
   ]
  },
  {
   "cell_type": "code",
   "execution_count": null,
   "id": "58fc9888",
   "metadata": {},
   "outputs": [],
   "source": []
  }
 ],
 "metadata": {
  "kernelspec": {
   "display_name": "Python 3 (ipykernel)",
   "language": "python",
   "name": "python3"
  },
  "language_info": {
   "codemirror_mode": {
    "name": "ipython",
    "version": 3
   },
   "file_extension": ".py",
   "mimetype": "text/x-python",
   "name": "python",
   "nbconvert_exporter": "python",
   "pygments_lexer": "ipython3",
   "version": "3.11.5"
  }
 },
 "nbformat": 4,
 "nbformat_minor": 5
}
